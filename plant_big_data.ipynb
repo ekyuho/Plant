{
 "cells": [
  {
   "cell_type": "code",
   "execution_count": null,
   "id": "fef15e9f-ec1d-487d-8a60-c903dd1aa8d3",
   "metadata": {},
   "outputs": [],
   "source": [
    "import os\n",
    "mypath=\"E:\\\\.shortcut-targets-by-id\\\\1H5ozpQqq7a9WMbr3XnAMqCFq0-QoGUhr\\\\220114제공데이터\"\n",
    "\n",
    "# os.walk는 디렉토리 전체를 리스팅 해줍니다.\n",
    "path = os.walk(mypath)    \n",
    "\n",
    "# root 라는 변수를 통해 전체 디렉토리명을 구할 수 있습니다.\n",
    "for root, directories, files in path:\n",
    "    print(root)"
   ]
  },
  {
   "cell_type": "code",
   "execution_count": null,
   "id": "598a43f2-d765-48cb-833c-b8a246491390",
   "metadata": {},
   "outputs": [],
   "source": [
    "import os\n",
    "mypath=\"E:\\\\.shortcut-targets-by-id\\\\1H5ozpQqq7a9WMbr3XnAMqCFq0-QoGUhr\\\\220114제공데이터\"\n",
    "path = os.walk(mypath)\n",
    "\n",
    "# 이번에는 각 디렉토리의 화일 갯수를 살펴봅니다\n",
    "for root, directories, files in path:\n",
    "    files = os.listdir(root)\n",
    "    print(root, '화일갯수=',len(files))"
   ]
  },
  {
   "cell_type": "code",
   "execution_count": null,
   "id": "b495e100-c17e-411a-b4e8-eb7d3c6154be",
   "metadata": {},
   "outputs": [],
   "source": [
    "import os\n",
    "import re\n",
    "mypath=\"E:\\\\.shortcut-targets-by-id\\\\1H5ozpQqq7a9WMbr3XnAMqCFq0-QoGUhr\\\\220114제공데이터\"\n",
    "path = os.walk(mypath)\n",
    "\n",
    "# 디렉토리의 명칭이  ...데이터\\05\\009 형태인 것만 골라냅니다.\n",
    "pattern = r'(\\\\\\d{2}\\\\\\d{3})$'\n",
    "for root, directories, files in path:\n",
    "    if re.search(pattern, root):\n",
    "        print(root, len(os.listdir(root)))"
   ]
  },
  {
   "cell_type": "code",
   "execution_count": 157,
   "id": "12abec22-40d7-479f-9a6f-fe50de994ae3",
   "metadata": {},
   "outputs": [
    {
     "name": "stdout",
     "output_type": "stream",
     "text": [
      "E:\\.shortcut-targets-by-id\\1H5ozpQqq7a9WMbr3XnAMqCFq0-QoGUhr\\220114제공데이터\\01.원천데이터\\식의약용 자생식물 분석 데이터\\05\\009 541\n",
      "E:\\.shortcut-targets-by-id\\1H5ozpQqq7a9WMbr3XnAMqCFq0-QoGUhr\\220114제공데이터\\01.원천데이터\\식의약용 자생식물 분석 데이터\\04\\004 541\n",
      "E:\\.shortcut-targets-by-id\\1H5ozpQqq7a9WMbr3XnAMqCFq0-QoGUhr\\220114제공데이터\\01.원천데이터\\식의약용 자생식물 분석 데이터\\02\\051 544\n",
      "E:\\.shortcut-targets-by-id\\1H5ozpQqq7a9WMbr3XnAMqCFq0-QoGUhr\\220114제공데이터\\01.원천데이터\\식의약용 자생식물 분석 데이터\\02\\009 550\n",
      "E:\\.shortcut-targets-by-id\\1H5ozpQqq7a9WMbr3XnAMqCFq0-QoGUhr\\220114제공데이터\\01.원천데이터\\식의약용 자생식물 분석 데이터\\02\\022 568\n",
      "E:\\.shortcut-targets-by-id\\1H5ozpQqq7a9WMbr3XnAMqCFq0-QoGUhr\\220114제공데이터\\01.원천데이터\\식의약용 자생식물 분석 데이터\\02\\040 571\n",
      "E:\\.shortcut-targets-by-id\\1H5ozpQqq7a9WMbr3XnAMqCFq0-QoGUhr\\220114제공데이터\\01.원천데이터\\식의약용 자생식물 분석 데이터\\02\\046 569\n",
      "E:\\.shortcut-targets-by-id\\1H5ozpQqq7a9WMbr3XnAMqCFq0-QoGUhr\\220114제공데이터\\01.원천데이터\\식의약용 자생식물 분석 데이터\\02\\041 592\n",
      "E:\\.shortcut-targets-by-id\\1H5ozpQqq7a9WMbr3XnAMqCFq0-QoGUhr\\220114제공데이터\\01.원천데이터\\식의약용 자생식물 분석 데이터\\02\\048 568\n",
      "E:\\.shortcut-targets-by-id\\1H5ozpQqq7a9WMbr3XnAMqCFq0-QoGUhr\\220114제공데이터\\01.원천데이터\\식의약용 자생식물 분석 데이터\\03\\040 590\n",
      "E:\\.shortcut-targets-by-id\\1H5ozpQqq7a9WMbr3XnAMqCFq0-QoGUhr\\220114제공데이터\\01.원천데이터\\식의약용 자생식물 분석 데이터\\03\\153 565\n",
      "E:\\.shortcut-targets-by-id\\1H5ozpQqq7a9WMbr3XnAMqCFq0-QoGUhr\\220114제공데이터\\01.원천데이터\\식의약용 자생식물 분석 데이터\\03\\011 548\n",
      "E:\\.shortcut-targets-by-id\\1H5ozpQqq7a9WMbr3XnAMqCFq0-QoGUhr\\220114제공데이터\\01.원천데이터\\식의약용 자생식물 분석 데이터\\03\\002 560\n",
      "E:\\.shortcut-targets-by-id\\1H5ozpQqq7a9WMbr3XnAMqCFq0-QoGUhr\\220114제공데이터\\01.원천데이터\\식의약용 자생식물 분석 데이터\\03\\043 573\n",
      "E:\\.shortcut-targets-by-id\\1H5ozpQqq7a9WMbr3XnAMqCFq0-QoGUhr\\220114제공데이터\\01.원천데이터\\식의약용 자생식물 분석 데이터\\03\\046 566\n",
      "E:\\.shortcut-targets-by-id\\1H5ozpQqq7a9WMbr3XnAMqCFq0-QoGUhr\\220114제공데이터\\01.원천데이터\\식의약용 자생식물 분석 데이터\\03\\001 566\n",
      "E:\\.shortcut-targets-by-id\\1H5ozpQqq7a9WMbr3XnAMqCFq0-QoGUhr\\220114제공데이터\\01.원천데이터\\식의약용 자생식물 분석 데이터\\03\\020 564\n",
      "E:\\.shortcut-targets-by-id\\1H5ozpQqq7a9WMbr3XnAMqCFq0-QoGUhr\\220114제공데이터\\01.원천데이터\\식의약용 자생식물 분석 데이터\\03\\160 569\n",
      "E:\\.shortcut-targets-by-id\\1H5ozpQqq7a9WMbr3XnAMqCFq0-QoGUhr\\220114제공데이터\\02.라벨링데이터\\식의약용 자생식물 분석 데이터\\05\\009 541\n",
      "E:\\.shortcut-targets-by-id\\1H5ozpQqq7a9WMbr3XnAMqCFq0-QoGUhr\\220114제공데이터\\02.라벨링데이터\\식의약용 자생식물 분석 데이터\\04\\004 541\n",
      "E:\\.shortcut-targets-by-id\\1H5ozpQqq7a9WMbr3XnAMqCFq0-QoGUhr\\220114제공데이터\\02.라벨링데이터\\식의약용 자생식물 분석 데이터\\03\\040 590\n",
      "E:\\.shortcut-targets-by-id\\1H5ozpQqq7a9WMbr3XnAMqCFq0-QoGUhr\\220114제공데이터\\02.라벨링데이터\\식의약용 자생식물 분석 데이터\\03\\043 573\n",
      "E:\\.shortcut-targets-by-id\\1H5ozpQqq7a9WMbr3XnAMqCFq0-QoGUhr\\220114제공데이터\\02.라벨링데이터\\식의약용 자생식물 분석 데이터\\03\\153 565\n",
      "E:\\.shortcut-targets-by-id\\1H5ozpQqq7a9WMbr3XnAMqCFq0-QoGUhr\\220114제공데이터\\02.라벨링데이터\\식의약용 자생식물 분석 데이터\\03\\046 566\n",
      "E:\\.shortcut-targets-by-id\\1H5ozpQqq7a9WMbr3XnAMqCFq0-QoGUhr\\220114제공데이터\\02.라벨링데이터\\식의약용 자생식물 분석 데이터\\03\\020 564\n",
      "E:\\.shortcut-targets-by-id\\1H5ozpQqq7a9WMbr3XnAMqCFq0-QoGUhr\\220114제공데이터\\02.라벨링데이터\\식의약용 자생식물 분석 데이터\\03\\160 569\n",
      "E:\\.shortcut-targets-by-id\\1H5ozpQqq7a9WMbr3XnAMqCFq0-QoGUhr\\220114제공데이터\\02.라벨링데이터\\식의약용 자생식물 분석 데이터\\03\\001 566\n",
      "E:\\.shortcut-targets-by-id\\1H5ozpQqq7a9WMbr3XnAMqCFq0-QoGUhr\\220114제공데이터\\02.라벨링데이터\\식의약용 자생식물 분석 데이터\\03\\002 560\n",
      "E:\\.shortcut-targets-by-id\\1H5ozpQqq7a9WMbr3XnAMqCFq0-QoGUhr\\220114제공데이터\\02.라벨링데이터\\식의약용 자생식물 분석 데이터\\03\\011 548\n",
      "E:\\.shortcut-targets-by-id\\1H5ozpQqq7a9WMbr3XnAMqCFq0-QoGUhr\\220114제공데이터\\02.라벨링데이터\\식의약용 자생식물 분석 데이터\\02\\041 592\n",
      "E:\\.shortcut-targets-by-id\\1H5ozpQqq7a9WMbr3XnAMqCFq0-QoGUhr\\220114제공데이터\\02.라벨링데이터\\식의약용 자생식물 분석 데이터\\02\\009 550\n",
      "E:\\.shortcut-targets-by-id\\1H5ozpQqq7a9WMbr3XnAMqCFq0-QoGUhr\\220114제공데이터\\02.라벨링데이터\\식의약용 자생식물 분석 데이터\\02\\048 568\n",
      "E:\\.shortcut-targets-by-id\\1H5ozpQqq7a9WMbr3XnAMqCFq0-QoGUhr\\220114제공데이터\\02.라벨링데이터\\식의약용 자생식물 분석 데이터\\02\\046 569\n",
      "E:\\.shortcut-targets-by-id\\1H5ozpQqq7a9WMbr3XnAMqCFq0-QoGUhr\\220114제공데이터\\02.라벨링데이터\\식의약용 자생식물 분석 데이터\\02\\051 544\n",
      "E:\\.shortcut-targets-by-id\\1H5ozpQqq7a9WMbr3XnAMqCFq0-QoGUhr\\220114제공데이터\\02.라벨링데이터\\식의약용 자생식물 분석 데이터\\02\\040 571\n",
      "E:\\.shortcut-targets-by-id\\1H5ozpQqq7a9WMbr3XnAMqCFq0-QoGUhr\\220114제공데이터\\02.라벨링데이터\\식의약용 자생식물 분석 데이터\\02\\022 568\n",
      "원천데이타 10145 라벨링데이타 10145\n"
     ]
    }
   ],
   "source": [
    "import os\n",
    "import re\n",
    "mypath=\"E:\\\\.shortcut-targets-by-id\\\\1H5ozpQqq7a9WMbr3XnAMqCFq0-QoGUhr\\\\220114제공데이터\"\n",
    "path = os.walk(mypath)\n",
    "\n",
    "# 라벨과 원천데이타의 화일갯수를 확인합니다.\n",
    "\n",
    "pattern = r'(\\\\\\d{2}\\\\\\d{3})$'\n",
    "n_label=0\n",
    "n_image=0\n",
    "for root, directories, files in path:\n",
    "    n_files = len(os.listdir(root))\n",
    "    if re.search(pattern, root):\n",
    "        if '원천데이터' in root: \n",
    "            n_image += n_files\n",
    "        if '라벨링데이터' in root: \n",
    "            n_label += n_files\n",
    "        print(root, n_files)\n",
    "print('원천데이타', n_image, '라벨링데이타', n_label)"
   ]
  },
  {
   "cell_type": "code",
   "execution_count": 114,
   "id": "2531de13-79fe-4f31-8d96-5c9e586f6518",
   "metadata": {},
   "outputs": [
    {
     "name": "stdout",
     "output_type": "stream",
     "text": [
      "원천데이타 10145 라벨링데이타 10145\n"
     ]
    }
   ],
   "source": [
    "import os\n",
    "import re\n",
    "mypath=\"E:\\\\.shortcut-targets-by-id\\\\1H5ozpQqq7a9WMbr3XnAMqCFq0-QoGUhr\\\\220114제공데이터\"\n",
    "path = os.walk(mypath)\n",
    "\n",
    "#원천데이터와 라벨데이터명을 리스트로 구성합니다.\n",
    "\n",
    "pattern = r'(\\\\\\d{2}\\\\\\d{3})$'\n",
    "n_label=0\n",
    "n_image=0\n",
    "label=[]\n",
    "image=[]\n",
    "for root, directories, files in path:\n",
    "    if re.search(pattern, root):\n",
    "        for file in os.listdir(root):\n",
    "            fullpath = '{}\\\\{}'.format(root, file)\n",
    "            if '원천데이터' in fullpath: \n",
    "                n_source += 1\n",
    "                image.append(fullpath)\n",
    "            if '라벨링데이터' in fullpath: \n",
    "                n_label += 1\n",
    "                label.append(fullpath)\n",
    "\n",
    "print('원천데이타', len(image), '라벨링데이타', len(label))"
   ]
  },
  {
   "cell_type": "code",
   "execution_count": 116,
   "id": "6ff4f0e0-15e0-4d74-8f4e-a9e5b4e911ab",
   "metadata": {},
   "outputs": [
    {
     "data": {
      "text/plain": [
       "(['E:\\\\.shortcut-targets-by-id\\\\1H5ozpQqq7a9WMbr3XnAMqCFq0-QoGUhr\\\\220114제공데이터\\\\01.원천데이터\\\\식의약용 자생식물 분석 데이터\\\\05\\\\009\\\\CR009_05_52703.jpg',\n",
       "  'E:\\\\.shortcut-targets-by-id\\\\1H5ozpQqq7a9WMbr3XnAMqCFq0-QoGUhr\\\\220114제공데이터\\\\01.원천데이터\\\\식의약용 자생식물 분석 데이터\\\\05\\\\009\\\\CR009_05_53015.jpg',\n",
       "  'E:\\\\.shortcut-targets-by-id\\\\1H5ozpQqq7a9WMbr3XnAMqCFq0-QoGUhr\\\\220114제공데이터\\\\01.원천데이터\\\\식의약용 자생식물 분석 데이터\\\\05\\\\009\\\\CR009_05_51778.jpg',\n",
       "  'E:\\\\.shortcut-targets-by-id\\\\1H5ozpQqq7a9WMbr3XnAMqCFq0-QoGUhr\\\\220114제공데이터\\\\01.원천데이터\\\\식의약용 자생식물 분석 데이터\\\\05\\\\009\\\\CR009_05_52226.jpg',\n",
       "  'E:\\\\.shortcut-targets-by-id\\\\1H5ozpQqq7a9WMbr3XnAMqCFq0-QoGUhr\\\\220114제공데이터\\\\01.원천데이터\\\\식의약용 자생식물 분석 데이터\\\\05\\\\009\\\\CR009_05_52701.jpg',\n",
       "  'E:\\\\.shortcut-targets-by-id\\\\1H5ozpQqq7a9WMbr3XnAMqCFq0-QoGUhr\\\\220114제공데이터\\\\01.원천데이터\\\\식의약용 자생식물 분석 데이터\\\\05\\\\009\\\\CR009_05_51986.jpg',\n",
       "  'E:\\\\.shortcut-targets-by-id\\\\1H5ozpQqq7a9WMbr3XnAMqCFq0-QoGUhr\\\\220114제공데이터\\\\01.원천데이터\\\\식의약용 자생식물 분석 데이터\\\\05\\\\009\\\\CR009_05_52767.jpg',\n",
       "  'E:\\\\.shortcut-targets-by-id\\\\1H5ozpQqq7a9WMbr3XnAMqCFq0-QoGUhr\\\\220114제공데이터\\\\01.원천데이터\\\\식의약용 자생식물 분석 데이터\\\\05\\\\009\\\\CR009_05_52663.jpg',\n",
       "  'E:\\\\.shortcut-targets-by-id\\\\1H5ozpQqq7a9WMbr3XnAMqCFq0-QoGUhr\\\\220114제공데이터\\\\01.원천데이터\\\\식의약용 자생식물 분석 데이터\\\\05\\\\009\\\\CR009_05_51987.jpg',\n",
       "  'E:\\\\.shortcut-targets-by-id\\\\1H5ozpQqq7a9WMbr3XnAMqCFq0-QoGUhr\\\\220114제공데이터\\\\01.원천데이터\\\\식의약용 자생식물 분석 데이터\\\\05\\\\009\\\\CR009_05_52183.jpg'],\n",
       " ['E:\\\\.shortcut-targets-by-id\\\\1H5ozpQqq7a9WMbr3XnAMqCFq0-QoGUhr\\\\220114제공데이터\\\\02.라벨링데이터\\\\식의약용 자생식물 분석 데이터\\\\05\\\\009\\\\CR009_05_52927.json',\n",
       "  'E:\\\\.shortcut-targets-by-id\\\\1H5ozpQqq7a9WMbr3XnAMqCFq0-QoGUhr\\\\220114제공데이터\\\\02.라벨링데이터\\\\식의약용 자생식물 분석 데이터\\\\05\\\\009\\\\CR009_05_52279.json',\n",
       "  'E:\\\\.shortcut-targets-by-id\\\\1H5ozpQqq7a9WMbr3XnAMqCFq0-QoGUhr\\\\220114제공데이터\\\\02.라벨링데이터\\\\식의약용 자생식물 분석 데이터\\\\05\\\\009\\\\CR009_05_52517.json',\n",
       "  'E:\\\\.shortcut-targets-by-id\\\\1H5ozpQqq7a9WMbr3XnAMqCFq0-QoGUhr\\\\220114제공데이터\\\\02.라벨링데이터\\\\식의약용 자생식물 분석 데이터\\\\05\\\\009\\\\CR009_05_52821.json',\n",
       "  'E:\\\\.shortcut-targets-by-id\\\\1H5ozpQqq7a9WMbr3XnAMqCFq0-QoGUhr\\\\220114제공데이터\\\\02.라벨링데이터\\\\식의약용 자생식물 분석 데이터\\\\05\\\\009\\\\CR009_05_52448.json',\n",
       "  'E:\\\\.shortcut-targets-by-id\\\\1H5ozpQqq7a9WMbr3XnAMqCFq0-QoGUhr\\\\220114제공데이터\\\\02.라벨링데이터\\\\식의약용 자생식물 분석 데이터\\\\05\\\\009\\\\CR009_05_52436.json',\n",
       "  'E:\\\\.shortcut-targets-by-id\\\\1H5ozpQqq7a9WMbr3XnAMqCFq0-QoGUhr\\\\220114제공데이터\\\\02.라벨링데이터\\\\식의약용 자생식물 분석 데이터\\\\05\\\\009\\\\CR009_05_52543.json',\n",
       "  'E:\\\\.shortcut-targets-by-id\\\\1H5ozpQqq7a9WMbr3XnAMqCFq0-QoGUhr\\\\220114제공데이터\\\\02.라벨링데이터\\\\식의약용 자생식물 분석 데이터\\\\05\\\\009\\\\CR009_05_52773.json',\n",
       "  'E:\\\\.shortcut-targets-by-id\\\\1H5ozpQqq7a9WMbr3XnAMqCFq0-QoGUhr\\\\220114제공데이터\\\\02.라벨링데이터\\\\식의약용 자생식물 분석 데이터\\\\05\\\\009\\\\CR009_05_52510.json',\n",
       "  'E:\\\\.shortcut-targets-by-id\\\\1H5ozpQqq7a9WMbr3XnAMqCFq0-QoGUhr\\\\220114제공데이터\\\\02.라벨링데이터\\\\식의약용 자생식물 분석 데이터\\\\05\\\\009\\\\CR009_05_52499.json'])"
      ]
     },
     "execution_count": 116,
     "metadata": {},
     "output_type": "execute_result"
    }
   ],
   "source": [
    "image[:10], label[:10]"
   ]
  },
  {
   "cell_type": "code",
   "execution_count": 138,
   "id": "2ed226dd-7797-43e1-97cb-fefed339e4bf",
   "metadata": {},
   "outputs": [
    {
     "name": "stdout",
     "output_type": "stream",
     "text": [
      "{\n",
      "    \"info\": {\n",
      "        \"datast_nm\": \"식의약용 자생식물 분석 데이터\",\n",
      "        \"datast_detail\": \"식의약용 자생식물 60종별로 식물종분류를 판별(인식)하기 위한 식물의 부위별(꽃, 열매, 잎앞면, 잎뒷면) AI 학습데이터\",\n",
      "        \"wd_plnt_idntfr\": \"009\"\n",
      "    },\n",
      "    \"images\": {\n",
      "        \"image_file_id\": \"CR009_05_52927\",\n",
      "        \"image_file_nm\": \"CR009_05_52927.jpg\",\n",
      "        \"file_stre_cours\": \"\\\\식의약용 자생식물 분석 데이터\\\\05\\\\009\\\\CR009_05_52927.jpg\",\n",
      "        \"rsoltn\": \"1823, 1823\",\n",
      "        \"region_nm\": \"성산\",\n",
      "        \"region_type\": \"평지\",\n",
      "        \"plant_part\": \"잎-뒷면\",\n",
      "        \"grwh_step_nm\": \" \",\n",
      "        \"image_file_frmat\": \"JPG\",\n",
      "        \"image_potogrf_dt\": \"2021-10-31 17:12:26\"\n",
      "    },\n",
      "    \"annotations\": {\n",
      "        \"antn_id\": 3580832,\n",
      "        \"antn_ty\": \"POLYGON\",\n",
      "        \"object_class_lclas_code\": \"02\",\n",
      "        \"object_class_mlsft_code\": \"009\",\n",
      "        \"object_class_sclas_code\": \"05\",\n",
      "        \"object_class_lclas_nm\": \"초본\",\n",
      "        \"object_class_mlsft_nm\": \"메밀\",\n",
      "        \"object_class_sclas_nm\": \"잎-뒷면\",\n",
      "        \"pyn_xcrdnt\": \"275,428,525,616,752,862,912,947,1056,1169,1224,1224,1285,1324,1332,1366,1375,1377,1519,1522,1373,1366,1371,1387,1363,1327,1302,1276,1125,1082,1077,1043,1013,1004,994,969,976,962,923,898,871,797,761,706,676,543,486,410,284\",\n",
      "        \"pyn_ycrdnt\": \"788,766,754,761,715,704,637,548,467,449,472,491,516,523,566,690,750,876,891,930,924,940,1024,1192,1270,1421,1446,1434,1336,1322,1306,1283,1279,1265,1283,1254,1249,1238,1228,1233,1221,1123,1068,1031,1002,924,889,869,811\"\n",
      "    },\n",
      "    \"plants\": {\n",
      "        \"wd_plnt_nm\": \"메밀\",\n",
      "        \"scientific_nm\": \"Fagopyrum esculentum Moench, 1794.\",\n",
      "        \"woody_herbal\": \"2\",\n",
      "        \"edible_yn\": \"Y\",\n",
      "        \"edible_part\": \"잎, 줄기, 꽃, 씨앗\",\n",
      "        \"acquisition_term\": \"10월\",\n",
      "        \"efficacy\": \"항염증|면역증진|항산화\",\n",
      "        \"efficacy_ncl\": \"8.9|9.0|0.0\",\n",
      "        \"nutrient\": \"15.1|15.8|15.2\"\n",
      "    },\n",
      "    \"ingredient\": {\n",
      "        \"irdnt_nm\": \"6-Hydroxykaempferol-3-O-glucoside|Kaempferol 3-O-β-D-glucopyranoside|1-O-Caffeoyquinic acid|Cnidimol F|Procyanidin B8|Rhamnetin|1-Galloyl-glucose|QuinquenosideⅠ|5,7,8,3-Tetrahydroxy-3,4-dimethoxy flavone|3,5-Dihydroxybenzoic acid\",\n",
      "        \"irdnt_ncl\": \"0.6|0.4|-0.3|0.5|-0.4|0.0|0.0|-0.2|0.4|0.5\",\n",
      "        \"irdnt_chmcls_strct\": \" \",\n",
      "        \"irdnt_anals_instlm\": \"제주산학융합원\"\n",
      "    },\n",
      "    \"licenses\": {\n",
      "        \"lcnse_nm\": \"CC-BY-SA\"\n",
      "    }\n",
      "}\n"
     ]
    }
   ],
   "source": [
    "import json\n",
    "\n",
    "alabel = label[0]\n",
    "with open(alabel, encoding='utf8') as f:\n",
    "    j=json.load(f)\n",
    "    print(json.dumps(j, indent=4, ensure_ascii=False))"
   ]
  },
  {
   "cell_type": "code",
   "execution_count": 139,
   "id": "afbcd7e0-35a3-4e2c-9492-107ad2ac8824",
   "metadata": {},
   "outputs": [
    {
     "name": "stdout",
     "output_type": "stream",
     "text": [
      "\\식의약용 자생식물 분석 데이터\\05\\009\\CR009_05_52927.jpg\n"
     ]
    }
   ],
   "source": [
    "import json\n",
    "\n",
    "alabel = label[0]\n",
    "with open(alabel, encoding='utf8') as f:\n",
    "    j=json.load(f)\n",
    "    print(j[\"images\"][\"file_stre_cours\"])"
   ]
  },
  {
   "cell_type": "code",
   "execution_count": 140,
   "id": "e38d02e1-df7a-42fb-9959-410465adb85c",
   "metadata": {},
   "outputs": [
    {
     "name": "stdout",
     "output_type": "stream",
     "text": [
      "E:\\.shortcut-targets-by-id\\1H5ozpQqq7a9WMbr3XnAMqCFq0-QoGUhr\\220114제공데이터\\01.원천데이터\\식의약용 자생식물 분석 데이터\\05\\009\\CR009_05_52927.jpg True\n"
     ]
    }
   ],
   "source": [
    "import json\n",
    "\n",
    "root='E:\\\\.shortcut-targets-by-id\\\\1H5ozpQqq7a9WMbr3XnAMqCFq0-QoGUhr\\\\220114제공데이터\\\\01.원천데이터'\n",
    "alabel = label[0]\n",
    "with open(alabel, encoding='utf8') as f:\n",
    "    j=json.load(f)\n",
    "    imagefile = '{}{}'.format(root,j[\"images\"][\"file_stre_cours\"])\n",
    "    exist = os.path.isfile(imagefile)\n",
    "    print(imagefile, exist)"
   ]
  },
  {
   "cell_type": "code",
   "execution_count": 144,
   "id": "a2db64d6-4386-41fb-946f-80b2e5e69f75",
   "metadata": {},
   "outputs": [
    {
     "name": "stdout",
     "output_type": "stream",
     "text": [
      "0 E:\\.shortcut-targets-by-id\\1H5ozpQqq7a9WMbr3XnAMqCFq0-QoGUhr\\220114제공데이터\\01.원천데이터\\식의약용 자생식물 분석 데이터\\05\\009\\CR009_05_52927.jpg True\n",
      "100 E:\\.shortcut-targets-by-id\\1H5ozpQqq7a9WMbr3XnAMqCFq0-QoGUhr\\220114제공데이터\\01.원천데이터\\식의약용 자생식물 분석 데이터\\05\\009\\CR009_05_52344.jpg True\n",
      "200 E:\\.shortcut-targets-by-id\\1H5ozpQqq7a9WMbr3XnAMqCFq0-QoGUhr\\220114제공데이터\\01.원천데이터\\식의약용 자생식물 분석 데이터\\05\\009\\CR009_05_52695.jpg True\n",
      "300 E:\\.shortcut-targets-by-id\\1H5ozpQqq7a9WMbr3XnAMqCFq0-QoGUhr\\220114제공데이터\\01.원천데이터\\식의약용 자생식물 분석 데이터\\05\\009\\CR009_05_52386.jpg True\n",
      "400 E:\\.shortcut-targets-by-id\\1H5ozpQqq7a9WMbr3XnAMqCFq0-QoGUhr\\220114제공데이터\\01.원천데이터\\식의약용 자생식물 분석 데이터\\05\\009\\CR009_05_51896.jpg True\n",
      "500 E:\\.shortcut-targets-by-id\\1H5ozpQqq7a9WMbr3XnAMqCFq0-QoGUhr\\220114제공데이터\\01.원천데이터\\식의약용 자생식물 분석 데이터\\05\\009\\CR009_05_52856.jpg True\n"
     ]
    },
    {
     "ename": "JSONDecodeError",
     "evalue": "Expecting value: line 1 column 2 (char 1)",
     "output_type": "error",
     "traceback": [
      "\u001b[1;31m---------------------------------------------------------------------------\u001b[0m",
      "\u001b[1;31mJSONDecodeError\u001b[0m                           Traceback (most recent call last)",
      "\u001b[1;32m~\\AppData\\Local\\Temp/ipykernel_28020/2789274906.py\u001b[0m in \u001b[0;36m<module>\u001b[1;34m\u001b[0m\n\u001b[0;32m      5\u001b[0m \u001b[1;32mfor\u001b[0m \u001b[0malabel\u001b[0m \u001b[1;32min\u001b[0m \u001b[0mlabel\u001b[0m\u001b[1;33m:\u001b[0m\u001b[1;33m\u001b[0m\u001b[1;33m\u001b[0m\u001b[0m\n\u001b[0;32m      6\u001b[0m     \u001b[1;32mwith\u001b[0m \u001b[0mopen\u001b[0m\u001b[1;33m(\u001b[0m\u001b[0malabel\u001b[0m\u001b[1;33m,\u001b[0m \u001b[0mencoding\u001b[0m\u001b[1;33m=\u001b[0m\u001b[1;34m'utf8'\u001b[0m\u001b[1;33m)\u001b[0m \u001b[1;32mas\u001b[0m \u001b[0mf\u001b[0m\u001b[1;33m:\u001b[0m\u001b[1;33m\u001b[0m\u001b[1;33m\u001b[0m\u001b[0m\n\u001b[1;32m----> 7\u001b[1;33m         \u001b[0mj\u001b[0m\u001b[1;33m=\u001b[0m\u001b[0mjson\u001b[0m\u001b[1;33m.\u001b[0m\u001b[0mload\u001b[0m\u001b[1;33m(\u001b[0m\u001b[0mf\u001b[0m\u001b[1;33m)\u001b[0m\u001b[1;33m\u001b[0m\u001b[1;33m\u001b[0m\u001b[0m\n\u001b[0m\u001b[0;32m      8\u001b[0m         \u001b[0mimagefile\u001b[0m \u001b[1;33m=\u001b[0m \u001b[1;34m'{}{}'\u001b[0m\u001b[1;33m.\u001b[0m\u001b[0mformat\u001b[0m\u001b[1;33m(\u001b[0m\u001b[0mroot\u001b[0m\u001b[1;33m,\u001b[0m\u001b[0mj\u001b[0m\u001b[1;33m[\u001b[0m\u001b[1;34m\"images\"\u001b[0m\u001b[1;33m]\u001b[0m\u001b[1;33m[\u001b[0m\u001b[1;34m\"file_stre_cours\"\u001b[0m\u001b[1;33m]\u001b[0m\u001b[1;33m)\u001b[0m\u001b[1;33m\u001b[0m\u001b[1;33m\u001b[0m\u001b[0m\n\u001b[0;32m      9\u001b[0m         \u001b[0mexist\u001b[0m \u001b[1;33m=\u001b[0m \u001b[0mos\u001b[0m\u001b[1;33m.\u001b[0m\u001b[0mpath\u001b[0m\u001b[1;33m.\u001b[0m\u001b[0misfile\u001b[0m\u001b[1;33m(\u001b[0m\u001b[0mimagefile\u001b[0m\u001b[1;33m)\u001b[0m\u001b[1;33m\u001b[0m\u001b[1;33m\u001b[0m\u001b[0m\n",
      "\u001b[1;32m~\\AppData\\Local\\Programs\\Python\\Python39\\lib\\json\\__init__.py\u001b[0m in \u001b[0;36mload\u001b[1;34m(fp, cls, object_hook, parse_float, parse_int, parse_constant, object_pairs_hook, **kw)\u001b[0m\n\u001b[0;32m    291\u001b[0m     \u001b[0mkwarg\u001b[0m\u001b[1;33m;\u001b[0m \u001b[0motherwise\u001b[0m\u001b[0;31m \u001b[0m\u001b[0;31m`\u001b[0m\u001b[0;31m`\u001b[0m\u001b[0mJSONDecoder\u001b[0m\u001b[0;31m`\u001b[0m\u001b[0;31m`\u001b[0m \u001b[1;32mis\u001b[0m \u001b[0mused\u001b[0m\u001b[1;33m.\u001b[0m\u001b[1;33m\u001b[0m\u001b[1;33m\u001b[0m\u001b[0m\n\u001b[0;32m    292\u001b[0m     \"\"\"\n\u001b[1;32m--> 293\u001b[1;33m     return loads(fp.read(),\n\u001b[0m\u001b[0;32m    294\u001b[0m         \u001b[0mcls\u001b[0m\u001b[1;33m=\u001b[0m\u001b[0mcls\u001b[0m\u001b[1;33m,\u001b[0m \u001b[0mobject_hook\u001b[0m\u001b[1;33m=\u001b[0m\u001b[0mobject_hook\u001b[0m\u001b[1;33m,\u001b[0m\u001b[1;33m\u001b[0m\u001b[1;33m\u001b[0m\u001b[0m\n\u001b[0;32m    295\u001b[0m         \u001b[0mparse_float\u001b[0m\u001b[1;33m=\u001b[0m\u001b[0mparse_float\u001b[0m\u001b[1;33m,\u001b[0m \u001b[0mparse_int\u001b[0m\u001b[1;33m=\u001b[0m\u001b[0mparse_int\u001b[0m\u001b[1;33m,\u001b[0m\u001b[1;33m\u001b[0m\u001b[1;33m\u001b[0m\u001b[0m\n",
      "\u001b[1;32m~\\AppData\\Local\\Programs\\Python\\Python39\\lib\\json\\__init__.py\u001b[0m in \u001b[0;36mloads\u001b[1;34m(s, cls, object_hook, parse_float, parse_int, parse_constant, object_pairs_hook, **kw)\u001b[0m\n\u001b[0;32m    344\u001b[0m             \u001b[0mparse_int\u001b[0m \u001b[1;32mis\u001b[0m \u001b[1;32mNone\u001b[0m \u001b[1;32mand\u001b[0m \u001b[0mparse_float\u001b[0m \u001b[1;32mis\u001b[0m \u001b[1;32mNone\u001b[0m \u001b[1;32mand\u001b[0m\u001b[1;33m\u001b[0m\u001b[1;33m\u001b[0m\u001b[0m\n\u001b[0;32m    345\u001b[0m             parse_constant is None and object_pairs_hook is None and not kw):\n\u001b[1;32m--> 346\u001b[1;33m         \u001b[1;32mreturn\u001b[0m \u001b[0m_default_decoder\u001b[0m\u001b[1;33m.\u001b[0m\u001b[0mdecode\u001b[0m\u001b[1;33m(\u001b[0m\u001b[0ms\u001b[0m\u001b[1;33m)\u001b[0m\u001b[1;33m\u001b[0m\u001b[1;33m\u001b[0m\u001b[0m\n\u001b[0m\u001b[0;32m    347\u001b[0m     \u001b[1;32mif\u001b[0m \u001b[0mcls\u001b[0m \u001b[1;32mis\u001b[0m \u001b[1;32mNone\u001b[0m\u001b[1;33m:\u001b[0m\u001b[1;33m\u001b[0m\u001b[1;33m\u001b[0m\u001b[0m\n\u001b[0;32m    348\u001b[0m         \u001b[0mcls\u001b[0m \u001b[1;33m=\u001b[0m \u001b[0mJSONDecoder\u001b[0m\u001b[1;33m\u001b[0m\u001b[1;33m\u001b[0m\u001b[0m\n",
      "\u001b[1;32m~\\AppData\\Local\\Programs\\Python\\Python39\\lib\\json\\decoder.py\u001b[0m in \u001b[0;36mdecode\u001b[1;34m(self, s, _w)\u001b[0m\n\u001b[0;32m    335\u001b[0m \u001b[1;33m\u001b[0m\u001b[0m\n\u001b[0;32m    336\u001b[0m         \"\"\"\n\u001b[1;32m--> 337\u001b[1;33m         \u001b[0mobj\u001b[0m\u001b[1;33m,\u001b[0m \u001b[0mend\u001b[0m \u001b[1;33m=\u001b[0m \u001b[0mself\u001b[0m\u001b[1;33m.\u001b[0m\u001b[0mraw_decode\u001b[0m\u001b[1;33m(\u001b[0m\u001b[0ms\u001b[0m\u001b[1;33m,\u001b[0m \u001b[0midx\u001b[0m\u001b[1;33m=\u001b[0m\u001b[0m_w\u001b[0m\u001b[1;33m(\u001b[0m\u001b[0ms\u001b[0m\u001b[1;33m,\u001b[0m \u001b[1;36m0\u001b[0m\u001b[1;33m)\u001b[0m\u001b[1;33m.\u001b[0m\u001b[0mend\u001b[0m\u001b[1;33m(\u001b[0m\u001b[1;33m)\u001b[0m\u001b[1;33m)\u001b[0m\u001b[1;33m\u001b[0m\u001b[1;33m\u001b[0m\u001b[0m\n\u001b[0m\u001b[0;32m    338\u001b[0m         \u001b[0mend\u001b[0m \u001b[1;33m=\u001b[0m \u001b[0m_w\u001b[0m\u001b[1;33m(\u001b[0m\u001b[0ms\u001b[0m\u001b[1;33m,\u001b[0m \u001b[0mend\u001b[0m\u001b[1;33m)\u001b[0m\u001b[1;33m.\u001b[0m\u001b[0mend\u001b[0m\u001b[1;33m(\u001b[0m\u001b[1;33m)\u001b[0m\u001b[1;33m\u001b[0m\u001b[1;33m\u001b[0m\u001b[0m\n\u001b[0;32m    339\u001b[0m         \u001b[1;32mif\u001b[0m \u001b[0mend\u001b[0m \u001b[1;33m!=\u001b[0m \u001b[0mlen\u001b[0m\u001b[1;33m(\u001b[0m\u001b[0ms\u001b[0m\u001b[1;33m)\u001b[0m\u001b[1;33m:\u001b[0m\u001b[1;33m\u001b[0m\u001b[1;33m\u001b[0m\u001b[0m\n",
      "\u001b[1;32m~\\AppData\\Local\\Programs\\Python\\Python39\\lib\\json\\decoder.py\u001b[0m in \u001b[0;36mraw_decode\u001b[1;34m(self, s, idx)\u001b[0m\n\u001b[0;32m    353\u001b[0m             \u001b[0mobj\u001b[0m\u001b[1;33m,\u001b[0m \u001b[0mend\u001b[0m \u001b[1;33m=\u001b[0m \u001b[0mself\u001b[0m\u001b[1;33m.\u001b[0m\u001b[0mscan_once\u001b[0m\u001b[1;33m(\u001b[0m\u001b[0ms\u001b[0m\u001b[1;33m,\u001b[0m \u001b[0midx\u001b[0m\u001b[1;33m)\u001b[0m\u001b[1;33m\u001b[0m\u001b[1;33m\u001b[0m\u001b[0m\n\u001b[0;32m    354\u001b[0m         \u001b[1;32mexcept\u001b[0m \u001b[0mStopIteration\u001b[0m \u001b[1;32mas\u001b[0m \u001b[0merr\u001b[0m\u001b[1;33m:\u001b[0m\u001b[1;33m\u001b[0m\u001b[1;33m\u001b[0m\u001b[0m\n\u001b[1;32m--> 355\u001b[1;33m             \u001b[1;32mraise\u001b[0m \u001b[0mJSONDecodeError\u001b[0m\u001b[1;33m(\u001b[0m\u001b[1;34m\"Expecting value\"\u001b[0m\u001b[1;33m,\u001b[0m \u001b[0ms\u001b[0m\u001b[1;33m,\u001b[0m \u001b[0merr\u001b[0m\u001b[1;33m.\u001b[0m\u001b[0mvalue\u001b[0m\u001b[1;33m)\u001b[0m \u001b[1;32mfrom\u001b[0m \u001b[1;32mNone\u001b[0m\u001b[1;33m\u001b[0m\u001b[1;33m\u001b[0m\u001b[0m\n\u001b[0m\u001b[0;32m    356\u001b[0m         \u001b[1;32mreturn\u001b[0m \u001b[0mobj\u001b[0m\u001b[1;33m,\u001b[0m \u001b[0mend\u001b[0m\u001b[1;33m\u001b[0m\u001b[1;33m\u001b[0m\u001b[0m\n",
      "\u001b[1;31mJSONDecodeError\u001b[0m: Expecting value: line 1 column 2 (char 1)"
     ]
    }
   ],
   "source": [
    "import json\n",
    "\n",
    "root='E:\\\\.shortcut-targets-by-id\\\\1H5ozpQqq7a9WMbr3XnAMqCFq0-QoGUhr\\\\220114제공데이터\\\\01.원천데이터'\n",
    "i=0\n",
    "for alabel in label:\n",
    "    with open(alabel, encoding='utf8') as f:\n",
    "        j=json.load(f)\n",
    "        imagefile = '{}{}'.format(root,j[\"images\"][\"file_stre_cours\"])\n",
    "        exist = os.path.isfile(imagefile)\n",
    "        if not exist: print(i, \"ERROR\", imagefile, exist)\n",
    "        if i%100==0: print(i, imagefile, exist)\n",
    "        i+=1"
   ]
  },
  {
   "cell_type": "code",
   "execution_count": 149,
   "id": "f1bcff0d-87b8-4c68-be92-4f544d5af780",
   "metadata": {
    "jupyter": {
     "source_hidden": true
    },
    "tags": []
   },
   "outputs": [
    {
     "name": "stdout",
     "output_type": "stream",
     "text": [
      "0 E:\\.shortcut-targets-by-id\\1H5ozpQqq7a9WMbr3XnAMqCFq0-QoGUhr\\220114제공데이터\\01.원천데이터\\식의약용 자생식물 분석 데이터\\05\\009\\CR009_05_52927.jpg True\n",
      "100 E:\\.shortcut-targets-by-id\\1H5ozpQqq7a9WMbr3XnAMqCFq0-QoGUhr\\220114제공데이터\\01.원천데이터\\식의약용 자생식물 분석 데이터\\05\\009\\CR009_05_52344.jpg True\n",
      "200 E:\\.shortcut-targets-by-id\\1H5ozpQqq7a9WMbr3XnAMqCFq0-QoGUhr\\220114제공데이터\\01.원천데이터\\식의약용 자생식물 분석 데이터\\05\\009\\CR009_05_52695.jpg True\n",
      "300 E:\\.shortcut-targets-by-id\\1H5ozpQqq7a9WMbr3XnAMqCFq0-QoGUhr\\220114제공데이터\\01.원천데이터\\식의약용 자생식물 분석 데이터\\05\\009\\CR009_05_52386.jpg True\n",
      "400 E:\\.shortcut-targets-by-id\\1H5ozpQqq7a9WMbr3XnAMqCFq0-QoGUhr\\220114제공데이터\\01.원천데이터\\식의약용 자생식물 분석 데이터\\05\\009\\CR009_05_51896.jpg True\n",
      "500 E:\\.shortcut-targets-by-id\\1H5ozpQqq7a9WMbr3XnAMqCFq0-QoGUhr\\220114제공데이터\\01.원천데이터\\식의약용 자생식물 분석 데이터\\05\\009\\CR009_05_52856.jpg True\n",
      "540 <_io.TextIOWrapper name='E:\\\\.shortcut-targets-by-id\\\\1H5ozpQqq7a9WMbr3XnAMqCFq0-QoGUhr\\\\220114제공데이터\\\\02.라벨링데이터\\\\식의약용 자생식물 분석 데이터\\\\05\\\\009\\\\desktop.ini' mode='r' encoding='utf8'> {\n",
      "    \"info\": {\n",
      "        \"datast_nm\": \"식의약용 자생식물 분석 데이터\",\n",
      "        \"datast_detail\": \"식의약용 자생식물 60종별로 식물종분류를 판별(인식)하기 위한 식물의 부위별(꽃, 열매, 잎앞면, 잎뒷면) AI 학습데이터\",\n",
      "        \"wd_plnt_idntfr\": \"009\"\n",
      "    },\n",
      "    \"images\": {\n",
      "        \"image_file_id\": \"CR009_05_52523\",\n",
      "        \"image_file_nm\": \"CR009_05_52523.jpg\",\n",
      "        \"file_stre_cours\": \"\\\\식의약용 자생식물 분석 데이터\\\\05\\\\009\\\\CR009_05_52523.jpg\",\n",
      "        \"rsoltn\": \"1758, 1758\",\n",
      "        \"region_nm\": \"성산\",\n",
      "        \"region_type\": \"평지\",\n",
      "        \"plant_part\": \"잎-뒷면\",\n",
      "        \"grwh_step_nm\": \" \",\n",
      "        \"image_file_frmat\": \"JPG\",\n",
      "        \"image_potogrf_dt\": \"2021-10-29 15:17:59\"\n",
      "    },\n",
      "    \"annotations\": {\n",
      "        \"antn_id\": 3581276,\n",
      "        \"antn_ty\": \"POLYGON\",\n",
      "        \"object_class_lclas_code\": \"02\",\n",
      "        \"object_class_mlsft_code\": \"009\",\n",
      "        \"object_class_sclas_code\": \"05\",\n",
      "        \"object_class_lclas_nm\": \"초본\",\n",
      "        \"object_class_mlsft_nm\": \"메밀\",\n",
      "        \"object_class_sclas_nm\": \"잎-뒷면\",\n",
      "        \"pyn_xcrdnt\": \"277,304,334,364,371,395,421,442,468,479,498,520,542,565,581,612,638,664,685,706,725,744,765,772,774,792,813,824,867,892,908,927,966,991,1019,1064,1100,1117,1124,1140,1164,1180,1186,1178,1187,1184,1166,1144,1162,1172,1187,1195,1189,1170,1175,1196,1241,1292,1343,1389,1430,1467,1505,1538,1565,1602,1609,1606,1585,1547,1499,1458,1418,1373,1346,1283,1233,1193,1154,1107,1043,995,978,938,881,815,737,683,627,566,541,471,391,324,271,219,208,207,214,243,262\",\n",
      "        \"pyn_ycrdnt\": \"1315,1274,1225,1191,1171,1140,1104,1077,1044,1018,1003,967,953,918,910,857,825,778,749,714,679,657,605,575,545,513,501,498,463,447,436,420,393,353,330,309,302,312,332,385,439,497,533,544,570,614,669,706,708,715,728,757,762,749,760,777,786,792,805,823,849,887,931,966,985,1000,1011,1022,1025,1019,999,984,1011,1056,1094,1115,1123,1137,1131,1146,1168,1180,1183,1205,1218,1244,1277,1304,1331,1344,1358,1371,1393,1421,1453,1468,1466,1445,1418,1379,1360\"\n",
      "    },\n",
      "    \"plants\": {\n",
      "        \"wd_plnt_nm\": \"메밀\",\n",
      "        \"scientific_nm\": \"Fagopyrum esculentum Moench, 1794.\",\n",
      "        \"woody_herbal\": \"2\",\n",
      "        \"edible_yn\": \"Y\",\n",
      "        \"edible_part\": \"잎, 줄기, 꽃, 씨앗\",\n",
      "        \"acquisition_term\": \"10월\",\n",
      "        \"efficacy\": \"항염증|면역증진|항산화\",\n",
      "        \"efficacy_ncl\": \"8.9|9.0|0.0\",\n",
      "        \"nutrient\": \"15.1|15.8|15.2\"\n",
      "    },\n",
      "    \"ingredient\": {\n",
      "        \"irdnt_nm\": \"6-Hydroxykaempferol-3-O-glucoside|Kaempferol 3-O-β-D-glucopyranoside|1-O-Caffeoyquinic acid|Cnidimol F|Procyanidin B8|Rhamnetin|1-Galloyl-glucose|QuinquenosideⅠ|5,7,8,3-Tetrahydroxy-3,4-dimethoxy flavone|3,5-Dihydroxybenzoic acid\",\n",
      "        \"irdnt_ncl\": \"0.6|0.4|-0.3|0.5|-0.4|0.0|0.0|-0.2|0.4|0.5\",\n",
      "        \"irdnt_chmcls_strct\": \" \",\n",
      "        \"irdnt_anals_instlm\": \"제주산학융합원\"\n",
      "    },\n",
      "    \"licenses\": {\n",
      "        \"lcnse_nm\": \"CC-BY-SA\"\n",
      "    }\n",
      "}\n",
      "600 E:\\.shortcut-targets-by-id\\1H5ozpQqq7a9WMbr3XnAMqCFq0-QoGUhr\\220114제공데이터\\01.원천데이터\\식의약용 자생식물 분석 데이터\\04\\004\\CR004_04_51145.jpg True\n",
      "700 E:\\.shortcut-targets-by-id\\1H5ozpQqq7a9WMbr3XnAMqCFq0-QoGUhr\\220114제공데이터\\01.원천데이터\\식의약용 자생식물 분석 데이터\\04\\004\\CR004_04_53300.jpg True\n",
      "800 E:\\.shortcut-targets-by-id\\1H5ozpQqq7a9WMbr3XnAMqCFq0-QoGUhr\\220114제공데이터\\01.원천데이터\\식의약용 자생식물 분석 데이터\\04\\004\\CR004_04_53294.jpg True\n",
      "900 E:\\.shortcut-targets-by-id\\1H5ozpQqq7a9WMbr3XnAMqCFq0-QoGUhr\\220114제공데이터\\01.원천데이터\\식의약용 자생식물 분석 데이터\\04\\004\\CR004_04_50789.jpg True\n",
      "1000 E:\\.shortcut-targets-by-id\\1H5ozpQqq7a9WMbr3XnAMqCFq0-QoGUhr\\220114제공데이터\\01.원천데이터\\식의약용 자생식물 분석 데이터\\04\\004\\CR004_04_53095.jpg True\n",
      "1080 <_io.TextIOWrapper name='E:\\\\.shortcut-targets-by-id\\\\1H5ozpQqq7a9WMbr3XnAMqCFq0-QoGUhr\\\\220114제공데이터\\\\02.라벨링데이터\\\\식의약용 자생식물 분석 데이터\\\\04\\\\004\\\\desktop.ini' mode='r' encoding='utf8'> {\n",
      "    \"info\": {\n",
      "        \"datast_nm\": \"식의약용 자생식물 분석 데이터\",\n",
      "        \"datast_detail\": \"식의약용 자생식물 60종별로 식물종분류를 판별(인식)하기 위한 식물의 부위별(꽃, 열매, 잎앞면, 잎뒷면) AI 학습데이터\",\n",
      "        \"wd_plnt_idntfr\": \"004\"\n",
      "    },\n",
      "    \"images\": {\n",
      "        \"image_file_id\": \"CR004_04_51087\",\n",
      "        \"image_file_nm\": \"CR004_04_51087.jpg\",\n",
      "        \"file_stre_cours\": \"\\\\식의약용 자생식물 분석 데이터\\\\04\\\\004\\\\CR004_04_51087.jpg\",\n",
      "        \"rsoltn\": \"4016, 4016\",\n",
      "        \"region_nm\": \"한라수목원\",\n",
      "        \"region_type\": \"경사지\",\n",
      "        \"plant_part\": \"잎-앞면\",\n",
      "        \"grwh_step_nm\": \" \",\n",
      "        \"image_file_frmat\": \"JPG\",\n",
      "        \"image_potogrf_dt\": \"2021-08-05 11:28:54\"\n",
      "    },\n",
      "    \"annotations\": {\n",
      "        \"antn_id\": 3313616,\n",
      "        \"antn_ty\": \"POLYGON\",\n",
      "        \"object_class_lclas_code\": \"01\",\n",
      "        \"object_class_mlsft_code\": \"004\",\n",
      "        \"object_class_sclas_code\": \"04\",\n",
      "        \"object_class_lclas_nm\": \"목본\",\n",
      "        \"object_class_mlsft_nm\": \"참식나무\",\n",
      "        \"object_class_sclas_nm\": \"잎-앞면\",\n",
      "        \"pyn_xcrdnt\": \"156,224,274,355,423,486,548,610,679,760,834,915,984,1065,1146,1227,1295,1407,1494,1575,1687,1781,1868,1943,2048,2142,2291,2378,2447,2534,2621,2702,2796,2889,2964,3022,3088,3151,3201,3263,3299,3362,3418,3512,3568,3636,3717,3792,3867,3910,3923,3923,3910,3829,3748,3655,3586,3543,3481,3393,3331,3263,3231,3194,3119,3063,2945,2883,2802,2715,2615,2553,2491,2403,2316,2235,2173,2111,1975,1862,1771,1694,1625,1532,1458,1376,1320,1214,1127,1040,965,903,859,791,710,623,554,479,423,367,311,255,186,156,156\",\n",
      "        \"pyn_ycrdnt\": \"2055,1999,1974,1924,1899,1868,1837,1818,1793,1793,1793,1793,1799,1793,1775,1750,1718,1687,1675,1662,1662,1681,1694,1700,1706,1718,1762,1806,1843,1874,1905,1936,1992,2036,2086,2143,2210,2260,2312,2391,2435,2515,2584,2634,2671,2702,2733,2758,2777,2808,2839,2889,2901,2889,2845,2827,2796,2765,2740,2696,2652,2628,2615,2621,2628,2628,2628,2628,2628,2621,2621,2615,2615,2621,2609,2603,2603,2603,2582,2547,2523,2503,2497,2484,2481,2491,2503,2528,2522,2515,2484,2422,2385,2372,2354,2335,2310,2279,2217,2179,2148,2136,2136,2117,2123\"\n",
      "    },\n",
      "    \"plants\": {\n",
      "        \"wd_plnt_nm\": \"참식나무\",\n",
      "        \"scientific_nm\": \"Neolitsea sericea (Blume) Koidz., 1926.\",\n",
      "        \"woody_herbal\": \"1\",\n",
      "        \"edible_yn\": \"N\",\n",
      "        \"edible_part\": \"N/A\",\n",
      "        \"acquisition_term\": \"08월\",\n",
      "        \"efficacy\": \"항염증|면역증진|항산화\",\n",
      "        \"efficacy_ncl\": \"41.8|11.3|74.3\",\n",
      "        \"nutrient\": \"15.6|16.2|15.5\"\n",
      "    },\n",
      "    \"ingredient\": {\n",
      "        \"irdnt_nm\": \"Dihydrokaempferol-5-O-β-D-glucopyranoside|Trifolin|6-Hydroxykaempferol 3-glucoside|Procyanidin B1|Kaempferol 3-O-(6\\\"-O-p-coumaroyl)glucoside|1,6,7-Trihydroxy-2,3-dimethoxyxanthone|Gaillardin|Darendoside A|Cimidahurinine|Vernolic acid\",\n",
      "        \"irdnt_ncl\": \"0.5|0.7|0.0|-0.6|-0.1|0.3|0.8|0.4|0.3|0.0\",\n",
      "        \"irdnt_chmcls_strct\": \" \",\n",
      "        \"irdnt_anals_instlm\": \"제주산학융합원\"\n",
      "    },\n",
      "    \"licenses\": {\n",
      "        \"lcnse_nm\": \"CC-BY-SA\"\n",
      "    }\n",
      "}\n",
      "1100 E:\\.shortcut-targets-by-id\\1H5ozpQqq7a9WMbr3XnAMqCFq0-QoGUhr\\220114제공데이터\\01.원천데이터\\식의약용 자생식물 분석 데이터\\03\\040\\CR040_03_51712a.jpg True\n",
      "1200 E:\\.shortcut-targets-by-id\\1H5ozpQqq7a9WMbr3XnAMqCFq0-QoGUhr\\220114제공데이터\\01.원천데이터\\식의약용 자생식물 분석 데이터\\03\\040\\CR040_03_51350z.jpg True\n",
      "1300 E:\\.shortcut-targets-by-id\\1H5ozpQqq7a9WMbr3XnAMqCFq0-QoGUhr\\220114제공데이터\\01.원천데이터\\식의약용 자생식물 분석 데이터\\03\\040\\CR040_03_52153z.jpg True\n",
      "1400 E:\\.shortcut-targets-by-id\\1H5ozpQqq7a9WMbr3XnAMqCFq0-QoGUhr\\220114제공데이터\\01.원천데이터\\식의약용 자생식물 분석 데이터\\03\\040\\CR040_03_51346az.jpg True\n",
      "1500 E:\\.shortcut-targets-by-id\\1H5ozpQqq7a9WMbr3XnAMqCFq0-QoGUhr\\220114제공데이터\\01.원천데이터\\식의약용 자생식물 분석 데이터\\03\\040\\CR040_03_52314z.jpg True\n",
      "1600 E:\\.shortcut-targets-by-id\\1H5ozpQqq7a9WMbr3XnAMqCFq0-QoGUhr\\220114제공데이터\\01.원천데이터\\식의약용 자생식물 분석 데이터\\03\\040\\CR040_03_52280.jpg True\n",
      "1669 <_io.TextIOWrapper name='E:\\\\.shortcut-targets-by-id\\\\1H5ozpQqq7a9WMbr3XnAMqCFq0-QoGUhr\\\\220114제공데이터\\\\02.라벨링데이터\\\\식의약용 자생식물 분석 데이터\\\\03\\\\040\\\\desktop.ini' mode='r' encoding='utf8'> {\n",
      "    \"info\": {\n",
      "        \"datast_nm\": \"식의약용 자생식물 분석 데이터\",\n",
      "        \"datast_detail\": \"식의약용 자생식물 60종별로 식물종분류를 판별(인식)하기 위한 식물의 부위별(꽃, 열매, 잎앞면, 잎뒷면) AI 학습데이터\",\n",
      "        \"wd_plnt_idntfr\": \"040\"\n",
      "    },\n",
      "    \"images\": {\n",
      "        \"image_file_id\": \"CR040_03_52162az\",\n",
      "        \"image_file_nm\": \"CR040_03_52162az.jpg\",\n",
      "        \"file_stre_cours\": \"\\\\식의약용 자생식물 분석 데이터\\\\03\\\\040\\\\CR040_03_52162az.jpg\",\n",
      "        \"rsoltn\": \"870, 870\",\n",
      "        \"region_nm\": \"용담해안도로\",\n",
      "        \"region_type\": \"평지\",\n",
      "        \"plant_part\": \"열매\",\n",
      "        \"grwh_step_nm\": \" \",\n",
      "        \"image_file_frmat\": \"JPG\",\n",
      "        \"image_potogrf_dt\": \"2021-08-12 15:34:43\"\n",
      "    },\n",
      "    \"annotations\": {\n",
      "        \"antn_id\": 3685010,\n",
      "        \"antn_ty\": \"POLYGON\",\n",
      "        \"object_class_lclas_code\": \"01\",\n",
      "        \"object_class_mlsft_code\": \"040\",\n",
      "        \"object_class_sclas_code\": \"03\",\n",
      "        \"object_class_lclas_nm\": \"목본\",\n",
      "        \"object_class_mlsft_nm\": \"순비기나무\",\n",
      "        \"object_class_sclas_nm\": \"열매\",\n",
      "        \"pyn_xcrdnt\": \"339,372,396,412,432,445,457,480,503,534,551,565,573,576,585,590,585,622,634,660,690,709,738,746,751,744,732,708,688,671,676,674,667,659,646,635,618,597,583,575,571,563,550,531,515,506,492,473,462,447,424,410,389,365,335,309,285,270,258,255,207,191,167,138,116,105,89,82,81,80,87,105,122,147,130,125,123,111,105,106,114,130,143,155,186,157,144,144,146,146,159,177,201,232,256,261,263,279,292,310\",\n",
      "        \"pyn_ycrdnt\": \"122,118,121,133,140,156,178,178,179,186,204,219,240,256,277,294,324,339,359,367,398,418,439,470,512,544,566,592,608,616,633,666,681,697,704,718,725,750,760,770,773,774,775,776,776,782,785,771,797,812,817,820,835,836,833,824,807,784,765,748,767,765,768,760,741,720,694,674,659,640,623,594,578,565,553,542,518,492,465,449,423,393,384,379,368,341,314,292,268,252,228,210,199,192,190,174,163,155,153,135\"\n",
      "    },\n",
      "    \"plants\": {\n",
      "        \"wd_plnt_nm\": \"순비기나무\",\n",
      "        \"scientific_nm\": \"Vitex rotundifolia L. f., 1781.\",\n",
      "        \"woody_herbal\": \"1\",\n",
      "        \"edible_yn\": \"N\",\n",
      "        \"edible_part\": \"N/A\",\n",
      "        \"acquisition_term\": \"08월\",\n",
      "        \"efficacy\": \"항염증|면역증진|항산화\",\n",
      "        \"efficacy_ncl\": \"67.0|3.6|72.4\",\n",
      "        \"nutrient\": \"15.3|15.2|15.0\"\n",
      "    },\n",
      "    \"ingredient\": {\n",
      "        \"irdnt_nm\": \"Agnuside|Oxypaeoniflorin|Trifolin|Kaempferol 3-O-β-D-glucuronide|Cimicifugic acid B|Apigenin-7-O-acetyl-β-D-glucoside|20(S)-Ginsenoside Rh2|5,6,4-Trihydroxy-7,8-dimethoxyflavone\",\n",
      "        \"irdnt_ncl\": \"-0.2|-0.1|-0.3|0.1|0.0|-0.4|-0.4|0.9\",\n",
      "        \"irdnt_chmcls_strct\": \" \",\n",
      "        \"irdnt_anals_instlm\": \"제주산학융합원\"\n",
      "    },\n",
      "    \"licenses\": {\n",
      "        \"lcnse_nm\": \"CC-BY-SA\"\n",
      "    }\n",
      "}\n",
      "1700 E:\\.shortcut-targets-by-id\\1H5ozpQqq7a9WMbr3XnAMqCFq0-QoGUhr\\220114제공데이터\\01.원천데이터\\식의약용 자생식물 분석 데이터\\03\\043\\CR043_03_11240727.jpg True\n",
      "1800 E:\\.shortcut-targets-by-id\\1H5ozpQqq7a9WMbr3XnAMqCFq0-QoGUhr\\220114제공데이터\\01.원천데이터\\식의약용 자생식물 분석 데이터\\03\\043\\CR043_03_11240795.jpg True\n",
      "1900 E:\\.shortcut-targets-by-id\\1H5ozpQqq7a9WMbr3XnAMqCFq0-QoGUhr\\220114제공데이터\\01.원천데이터\\식의약용 자생식물 분석 데이터\\03\\043\\CR043_03_11240663.jpg True\n",
      "2000 E:\\.shortcut-targets-by-id\\1H5ozpQqq7a9WMbr3XnAMqCFq0-QoGUhr\\220114제공데이터\\01.원천데이터\\식의약용 자생식물 분석 데이터\\03\\043\\CR043_03_11240048.jpg True\n",
      "2100 E:\\.shortcut-targets-by-id\\1H5ozpQqq7a9WMbr3XnAMqCFq0-QoGUhr\\220114제공데이터\\01.원천데이터\\식의약용 자생식물 분석 데이터\\03\\043\\CR043_03_11240907.jpg True\n",
      "2200 E:\\.shortcut-targets-by-id\\1H5ozpQqq7a9WMbr3XnAMqCFq0-QoGUhr\\220114제공데이터\\01.원천데이터\\식의약용 자생식물 분석 데이터\\03\\043\\CR043_03_11240176.jpg True\n",
      "2241 <_io.TextIOWrapper name='E:\\\\.shortcut-targets-by-id\\\\1H5ozpQqq7a9WMbr3XnAMqCFq0-QoGUhr\\\\220114제공데이터\\\\02.라벨링데이터\\\\식의약용 자생식물 분석 데이터\\\\03\\\\043\\\\desktop.ini' mode='r' encoding='utf8'> {\n",
      "    \"info\": {\n",
      "        \"datast_nm\": \"식의약용 자생식물 분석 데이터\",\n",
      "        \"datast_detail\": \"식의약용 자생식물 60종별로 식물종분류를 판별(인식)하기 위한 식물의 부위별(꽃, 열매, 잎앞면, 잎뒷면) AI 학습데이터\",\n",
      "        \"wd_plnt_idntfr\": \"043\"\n",
      "    },\n",
      "    \"images\": {\n",
      "        \"image_file_id\": \"CR043_03_11240441\",\n",
      "        \"image_file_nm\": \"CR043_03_11240441.jpg\",\n",
      "        \"file_stre_cours\": \"\\\\식의약용 자생식물 분석 데이터\\\\03\\\\043\\\\CR043_03_11240441.jpg\",\n",
      "        \"rsoltn\": \"3024, 3024\",\n",
      "        \"region_nm\": \"한라수목원\",\n",
      "        \"region_type\": \"평지\",\n",
      "        \"plant_part\": \"열매\",\n",
      "        \"grwh_step_nm\": \" \",\n",
      "        \"image_file_frmat\": \"JPG\",\n",
      "        \"image_potogrf_dt\": \"2021-11-22 16:53:39\"\n",
      "    },\n",
      "    \"annotations\": {\n",
      "        \"antn_id\": 3633233,\n",
      "        \"antn_ty\": \"POLYGON\",\n",
      "        \"object_class_lclas_code\": \"01\",\n",
      "        \"object_class_mlsft_code\": \"043\",\n",
      "        \"object_class_sclas_code\": \"03\",\n",
      "        \"object_class_lclas_nm\": \"목본\",\n",
      "        \"object_class_mlsft_nm\": \"참가시나무\",\n",
      "        \"object_class_sclas_nm\": \"열매\",\n",
      "        \"pyn_xcrdnt\": \"1457,1520,1581,1629,1665,1698,1728,1747,1799,1846,1893,1912,1940,1953,1959,1959,1953,1933,1913,1876,1845,1745,1631,1523,1431,1302,1204,1131,1104,1083,1067,1052,1046,1031,1023,1031,1037,1057,1081,1108,1137,1205,1245,1289,1323,1369,1393\",\n",
      "        \"pyn_ycrdnt\": \"920,915,926,939,955,971,988,1001,1036,1084,1144,1186,1255,1308,1338,1442,1486,1566,1613,1677,1715,1802,1852,1879,1858,1811,1748,1661,1621,1583,1549,1509,1485,1413,1339,1295,1265,1198,1154,1114,1071,1010,983,960,946,933,926\"\n",
      "    },\n",
      "    \"plants\": {\n",
      "        \"wd_plnt_nm\": \"참가시나무\",\n",
      "        \"scientific_nm\": \"Quercus salicina Blume, 1850.\",\n",
      "        \"woody_herbal\": \"1\",\n",
      "        \"edible_yn\": \"Y\",\n",
      "        \"edible_part\": \"열매\",\n",
      "        \"acquisition_term\": \"11월\",\n",
      "        \"efficacy\": \"항염증|면역증진|항산화\",\n",
      "        \"efficacy_ncl\": \"46.4|17.1|82.6\",\n",
      "        \"nutrient\": \"15.4|15.2|15.5\"\n",
      "    },\n",
      "    \"ingredient\": {\n",
      "        \"irdnt_nm\": \"Madecassoside|Ellagic acid|Quinic acid|2,3-(S)-hexahydroxydiphenoyl-D-glucose|3-O-Methylellagic acid|Ethyl caffeate|3,3-Di-O-methylellagic acid|Tianshic acid|2,3-(S)-hexahydroxydiphenoyl-D-glucose|Yamogenin acetate\",\n",
      "        \"irdnt_ncl\": \"-1.4|0.2|-0.1|-0.2|-0.7|0.7|0.5|0.3|-0.7|1.7\",\n",
      "        \"irdnt_chmcls_strct\": \" \",\n",
      "        \"irdnt_anals_instlm\": \"제주산학융합원\"\n",
      "    },\n",
      "    \"licenses\": {\n",
      "        \"lcnse_nm\": \"CC-BY-SA\"\n",
      "    }\n",
      "}\n"
     ]
    }
   ],
   "source": [
    "import json\n",
    "\n",
    "root='E:\\\\.shortcut-targets-by-id\\\\1H5ozpQqq7a9WMbr3XnAMqCFq0-QoGUhr\\\\220114제공데이터\\\\01.원천데이터'\n",
    "i=0\n",
    "e=0\n",
    "for alabel in label:\n",
    "    with open(alabel, encoding='utf8') as f:\n",
    "        try:\n",
    "            j=json.load(f)\n",
    "        except:\n",
    "            print(i, f, json.dumps(j, indent=4, ensure_ascii=False))\n",
    "            if e>2: break\n",
    "            e+=1\n",
    "            continue\n",
    "        imagefile = '{}{}'.format(root,j[\"images\"][\"file_stre_cours\"])\n",
    "        exist = os.path.isfile(imagefile)\n",
    "        if not exist: print(i, \"ERROR\", imagefile, exist)\n",
    "        if i%100==0: print(i, imagefile, exist)\n",
    "        i+=1"
   ]
  },
  {
   "cell_type": "code",
   "execution_count": 160,
   "id": "a59baa0d-e644-4a46-a67a-a7221dc4ddf8",
   "metadata": {},
   "outputs": [
    {
     "name": "stdout",
     "output_type": "stream",
     "text": [
      "0 540 E:\\.shortcut-targets-by-id\\1H5ozpQqq7a9WMbr3XnAMqCFq0-QoGUhr\\220114제공데이터\\02.라벨링데이터\\식의약용 자생식물 분석 데이터\\05\\009\\desktop.ini\n",
      "1 1080 E:\\.shortcut-targets-by-id\\1H5ozpQqq7a9WMbr3XnAMqCFq0-QoGUhr\\220114제공데이터\\02.라벨링데이터\\식의약용 자생식물 분석 데이터\\04\\004\\desktop.ini\n",
      "2 1669 E:\\.shortcut-targets-by-id\\1H5ozpQqq7a9WMbr3XnAMqCFq0-QoGUhr\\220114제공데이터\\02.라벨링데이터\\식의약용 자생식물 분석 데이터\\03\\040\\desktop.ini\n",
      "3 2241 E:\\.shortcut-targets-by-id\\1H5ozpQqq7a9WMbr3XnAMqCFq0-QoGUhr\\220114제공데이터\\02.라벨링데이터\\식의약용 자생식물 분석 데이터\\03\\043\\desktop.ini\n",
      "4 2805 E:\\.shortcut-targets-by-id\\1H5ozpQqq7a9WMbr3XnAMqCFq0-QoGUhr\\220114제공데이터\\02.라벨링데이터\\식의약용 자생식물 분석 데이터\\03\\153\\desktop.ini\n",
      "5 3370 E:\\.shortcut-targets-by-id\\1H5ozpQqq7a9WMbr3XnAMqCFq0-QoGUhr\\220114제공데이터\\02.라벨링데이터\\식의약용 자생식물 분석 데이터\\03\\046\\desktop.ini\n",
      "6 3933 E:\\.shortcut-targets-by-id\\1H5ozpQqq7a9WMbr3XnAMqCFq0-QoGUhr\\220114제공데이터\\02.라벨링데이터\\식의약용 자생식물 분석 데이터\\03\\020\\desktop.ini\n",
      "7 4501 E:\\.shortcut-targets-by-id\\1H5ozpQqq7a9WMbr3XnAMqCFq0-QoGUhr\\220114제공데이터\\02.라벨링데이터\\식의약용 자생식물 분석 데이터\\03\\160\\desktop.ini\n",
      "8 5066 E:\\.shortcut-targets-by-id\\1H5ozpQqq7a9WMbr3XnAMqCFq0-QoGUhr\\220114제공데이터\\02.라벨링데이터\\식의약용 자생식물 분석 데이터\\03\\001\\desktop.ini\n",
      "9 5625 E:\\.shortcut-targets-by-id\\1H5ozpQqq7a9WMbr3XnAMqCFq0-QoGUhr\\220114제공데이터\\02.라벨링데이터\\식의약용 자생식물 분석 데이터\\03\\002\\desktop.ini\n",
      "10 6172 E:\\.shortcut-targets-by-id\\1H5ozpQqq7a9WMbr3XnAMqCFq0-QoGUhr\\220114제공데이터\\02.라벨링데이터\\식의약용 자생식물 분석 데이터\\03\\011\\desktop.ini\n",
      "11 6763 E:\\.shortcut-targets-by-id\\1H5ozpQqq7a9WMbr3XnAMqCFq0-QoGUhr\\220114제공데이터\\02.라벨링데이터\\식의약용 자생식물 분석 데이터\\02\\041\\desktop.ini\n",
      "12 7312 E:\\.shortcut-targets-by-id\\1H5ozpQqq7a9WMbr3XnAMqCFq0-QoGUhr\\220114제공데이터\\02.라벨링데이터\\식의약용 자생식물 분석 데이터\\02\\009\\desktop.ini\n",
      "13 7879 E:\\.shortcut-targets-by-id\\1H5ozpQqq7a9WMbr3XnAMqCFq0-QoGUhr\\220114제공데이터\\02.라벨링데이터\\식의약용 자생식물 분석 데이터\\02\\048\\desktop.ini\n",
      "14 8447 E:\\.shortcut-targets-by-id\\1H5ozpQqq7a9WMbr3XnAMqCFq0-QoGUhr\\220114제공데이터\\02.라벨링데이터\\식의약용 자생식물 분석 데이터\\02\\046\\desktop.ini\n",
      "15 8990 E:\\.shortcut-targets-by-id\\1H5ozpQqq7a9WMbr3XnAMqCFq0-QoGUhr\\220114제공데이터\\02.라벨링데이터\\식의약용 자생식물 분석 데이터\\02\\051\\desktop.ini\n",
      "16 9560 E:\\.shortcut-targets-by-id\\1H5ozpQqq7a9WMbr3XnAMqCFq0-QoGUhr\\220114제공데이터\\02.라벨링데이터\\식의약용 자생식물 분석 데이터\\02\\040\\desktop.ini\n",
      "17 10127 E:\\.shortcut-targets-by-id\\1H5ozpQqq7a9WMbr3XnAMqCFq0-QoGUhr\\220114제공데이터\\02.라벨링데이터\\식의약용 자생식물 분석 데이터\\02\\022\\desktop.ini\n",
      "processed 10127 files. error=18. total 10145 files.\n"
     ]
    }
   ],
   "source": [
    "import json\n",
    "\n",
    "root='E:\\\\.shortcut-targets-by-id\\\\1H5ozpQqq7a9WMbr3XnAMqCFq0-QoGUhr\\\\220114제공데이터\\\\01.원천데이터'\n",
    "i=0\n",
    "e=0\n",
    "for alabel in label:\n",
    "    with open(alabel, encoding='utf8') as f:\n",
    "        try:\n",
    "            j=json.load(f)\n",
    "        except:\n",
    "            print(e, i, alabel)\n",
    "            e+=1\n",
    "            continue\n",
    "        imagefile = '{}{}'.format(root,j[\"images\"][\"file_stre_cours\"])\n",
    "        exist = os.path.isfile(imagefile)\n",
    "        if not exist: print(i, \"ERROR\", imagefile, exist)\n",
    "        #if i%100==0: print(i, imagefile, exist)\n",
    "        i+=1\n",
    "print(\"processed {} files. error={}. total {} files.\".format(i, e, i+e))"
   ]
  },
  {
   "cell_type": "code",
   "execution_count": 174,
   "id": "419ed77a-60b5-437e-aac2-e381a0e0b6c0",
   "metadata": {},
   "outputs": [
    {
     "name": "stdout",
     "output_type": "stream",
     "text": [
      "E:\\.shortcut-targets-by-id\\1H5ozpQqq7a9WMbr3XnAMqCFq0-QoGUhr\\220114제공데이터\\01.원천데이터\\식의약용 자생식물 분석 데이터\\02\\051\\CR051_02_51036.jpg (994, 994, 3)\n"
     ]
    },
    {
     "data": {
      "image/png": "[encoded data removed]",
      "text/plain": [
       "<Figure size 432x288 with 2 Axes>"
      ]
     },
     "metadata": {
      "needs_background": "light"
     },
     "output_type": "display_data"
    },
    {
     "name": "stdout",
     "output_type": "stream",
     "text": [
      "{\n",
      "    \"info\": {\n",
      "        \"datast_nm\": \"식의약용 자생식물 분석 데이터\",\n",
      "        \"datast_detail\": \"식의약용 자생식물 60종별로 식물종분류를 판별(인식)하기 위한 식물의 부위별(꽃, 열매, 잎앞면, 잎뒷면) AI 학습데이터\",\n",
      "        \"wd_plnt_idntfr\": \"051\"\n",
      "    },\n",
      "    \"images\": {\n",
      "        \"image_file_id\": \"CR051_02_51036\",\n",
      "        \"image_file_nm\": \"CR051_02_51036.jpg\",\n",
      "        \"file_stre_cours\": \"\\\\식의약용 자생식물 분석 데이터\\\\02\\\\051\\\\CR051_02_51036.jpg\",\n",
      "        \"rsoltn\": \"994, 994\",\n",
      "        \"region_nm\": \"선덕사\",\n",
      "        \"region_type\": \"평지\",\n",
      "        \"plant_part\": \"꽃\",\n",
      "        \"grwh_step_nm\": \" \",\n",
      "        \"image_file_frmat\": \"JPG\",\n",
      "        \"image_potogrf_dt\": \"2021-10-27 12:24:40\"\n",
      "    },\n",
      "    \"annotations\": {\n",
      "        \"antn_id\": 3600691,\n",
      "        \"antn_ty\": \"POLYGON\",\n",
      "        \"object_class_lclas_code\": \"02\",\n",
      "        \"object_class_mlsft_code\": \"051\",\n",
      "        \"object_class_sclas_code\": \"02\",\n",
      "        \"object_class_lclas_nm\": \"초본\",\n",
      "        \"object_class_mlsft_nm\": \"한라꽃향유\",\n",
      "        \"object_class_sclas_nm\": \"꽃\",\n",
      "        \"pyn_xcrdnt\": \"515,501,489,480,466,456,461,461,449,431,420,419,418,414,398,370,352,347,348,354,363,349,343,345,347,350,356,351,352,355,360,368,359,349,348,351,355,344,337,328,328,328,324,319,318,317,322,327,346,344,363,360,351,349,340,333,329,333,341,359,350,346,349,351,360,376,394,376,364,357,361,377,385,380,374,371,376,384,393,399,411,398,394,390,389,396,402,409,414,432,424,418,419,427,437,434,436,437,444,453,461,473,476,474,474,477,480,478,481,489,494,500,510,517,518,523,527,535,539,546,558,564,571,574,574,575,583,590,593,599,600,598,593,602,615,616,612,596,606,617,623,627,624,617,599,612,618,624,621,617,609,606,612,620,627,636,641,630,624,614,597,604,609,613,611,607,600,595,602,614,625,631,629,618,597,610,621,620,614,605,600,592,608,618,625,624,615,605,620,627,632,629,623,611,601,591,607,626,639,639,649,651,646,638,612,629,635,631,627,620,606,599,592,597,603,620,624,624,619,606,597,591,597,606,608,604,597,585,565,553,529\",\n",
      "        \"pyn_ycrdnt\": \"808,817,817,814,816,818,832,844,856,857,853,844,836,824,818,789,775,764,751,741,738,726,713,708,701,695,690,685,673,663,655,650,643,634,624,615,613,610,604,601,596,589,590,589,584,569,563,557,557,550,550,541,536,524,518,505,491,484,479,472,459,449,432,422,418,418,414,400,386,370,368,386,384,374,366,356,346,343,342,340,339,324,315,304,286,290,283,278,275,274,259,246,238,243,254,241,227,221,218,215,215,222,220,208,195,182,176,161,153,152,154,151,151,153,141,127,113,112,117,115,111,113,120,133,141,158,161,168,169,172,188,202,218,218,226,238,248,267,267,270,277,287,294,314,325,328,334,342,354,363,364,369,374,370,360,358,362,374,382,387,392,399,401,410,422,429,434,437,445,444,441,441,448,456,460,466,472,483,495,502,504,508,509,504,503,514,519,522,525,529,539,555,564,572,572,571,584,578,571,563,564,573,581,582,594,602,616,626,635,643,645,641,643,648,658,664,676,694,706,700,705,711,718,727,734,748,765,766,769,774,784\"\n",
      "    },\n",
      "    \"plants\": {\n",
      "        \"wd_plnt_nm\": \"한라꽃향유\",\n",
      "        \"scientific_nm\": \"Elsholtzia hallasanensis Y.N.Lee, 2000.\",\n",
      "        \"woody_herbal\": \"2\",\n",
      "        \"edible_yn\": \"N\",\n",
      "        \"edible_part\": \"N/A\",\n",
      "        \"acquisition_term\": \"10월\",\n",
      "        \"efficacy\": \"항염증|면역증진|항산화\",\n",
      "        \"efficacy_ncl\": \"0.0|0.0|0.0\",\n",
      "        \"nutrient\": \"15.2|15.6|15.6\"\n",
      "    },\n",
      "    \"ingredient\": {\n",
      "        \"irdnt_nm\": \"Escin Ⅳd|Chlorogenic acid|Kaempferol-3-O-β-D-glucuronide|Kaempferol-3-O-β-D-glucopyranoside|Genistin|Sanleng acid|Luteolin 7-beta-neohesperidoside|(E,E)-9-Oxooctadeca-10,12-dienoic acid|1-O-Caffeoyquinic acid|Apigenol\",\n",
      "        \"irdnt_ncl\": \"0.2|-0.4|0.0|0.1|0.6|0.6|0.7|0.3|0.4|0.6\",\n",
      "        \"irdnt_chmcls_strct\": \" \",\n",
      "        \"irdnt_anals_instlm\": \"제주산학융합원\"\n",
      "    },\n",
      "    \"licenses\": {\n",
      "        \"lcnse_nm\": \"CC-BY-SA\"\n",
      "    }\n",
      "}\n"
     ]
    }
   ],
   "source": [
    "import matplotlib.pyplot as plt\n",
    "import matplotlib.image as img\n",
    "import json\n",
    "\n",
    "alabel = label[9000]\n",
    "with open(alabel, encoding='utf8') as f:\n",
    "    j=json.load(f)\n",
    "\n",
    "root='E:\\\\.shortcut-targets-by-id\\\\1H5ozpQqq7a9WMbr3XnAMqCFq0-QoGUhr\\\\220114제공데이터\\\\01.원천데이터'\n",
    "imagefile=root+j[\"images\"][\"file_stre_cours\"]\n",
    "im=img.imread(imagefile)\n",
    "print(imagefile, im.shape)\n",
    "plt.figure()\n",
    "plt.imshow(im)\n",
    "plt.colorbar()\n",
    "plt.grid(False)\n",
    "plt.show()\n",
    "\n",
    "print(json.dumps(j, indent=4, ensure_ascii=False))"
   ]
  },
  {
   "cell_type": "code",
   "execution_count": 173,
   "id": "d2cd080f-8f12-45bb-872a-6b591969515f",
   "metadata": {},
   "outputs": [],
   "source": [
    "import matplotlib.pyplot as plt\n",
    "import matplotlib.image as img\n",
    "import json\n",
    "\n",
    "def look(no):\n",
    "    alabel = label[no]\n",
    "    with open(alabel, encoding='utf8') as f:\n",
    "        j=json.load(f)\n",
    "\n",
    "    root='E:\\\\.shortcut-targets-by-id\\\\1H5ozpQqq7a9WMbr3XnAMqCFq0-QoGUhr\\\\220114제공데이터\\\\01.원천데이터'\n",
    "    imagefile=root+j[\"images\"][\"file_stre_cours\"]\n",
    "    im=img.imread(imagefile)\n",
    "    print(imagefile, im.shape)\n",
    "    plt.figure()\n",
    "    plt.imshow(im)\n",
    "    plt.colorbar()\n",
    "    plt.grid(False)\n",
    "    plt.show()\n",
    "\n",
    "    print(json.dumps(j, indent=4, ensure_ascii=False))"
   ]
  },
  {
   "cell_type": "code",
   "execution_count": 177,
   "id": "89c75adf-51e8-44a5-83c6-eec23dde1d2e",
   "metadata": {},
   "outputs": [
    {
     "name": "stdout",
     "output_type": "stream",
     "text": [
      "E:\\.shortcut-targets-by-id\\1H5ozpQqq7a9WMbr3XnAMqCFq0-QoGUhr\\220114제공데이터\\01.원천데이터\\식의약용 자생식물 분석 데이터\\02\\051\\CR051_02_51036.jpg (994, 994, 3)\n"
     ]
    },
    {
     "data": {
      "image/png": "[encoded data removed]",
      "text/plain": [
       "<Figure size 432x288 with 2 Axes>"
      ]
     },
     "metadata": {
      "needs_background": "light"
     },
     "output_type": "display_data"
    },
    {
     "name": "stdout",
     "output_type": "stream",
     "text": [
      "{\n",
      "    \"info\": {\n",
      "        \"datast_nm\": \"식의약용 자생식물 분석 데이터\",\n",
      "        \"datast_detail\": \"식의약용 자생식물 60종별로 식물종분류를 판별(인식)하기 위한 식물의 부위별(꽃, 열매, 잎앞면, 잎뒷면) AI 학습데이터\",\n",
      "        \"wd_plnt_idntfr\": \"051\"\n",
      "    },\n",
      "    \"images\": {\n",
      "        \"image_file_id\": \"CR051_02_51036\",\n",
      "        \"image_file_nm\": \"CR051_02_51036.jpg\",\n",
      "        \"file_stre_cours\": \"\\\\식의약용 자생식물 분석 데이터\\\\02\\\\051\\\\CR051_02_51036.jpg\",\n",
      "        \"rsoltn\": \"994, 994\",\n",
      "        \"region_nm\": \"선덕사\",\n",
      "        \"region_type\": \"평지\",\n",
      "        \"plant_part\": \"꽃\",\n",
      "        \"grwh_step_nm\": \" \",\n",
      "        \"image_file_frmat\": \"JPG\",\n",
      "        \"image_potogrf_dt\": \"2021-10-27 12:24:40\"\n",
      "    },\n",
      "    \"annotations\": {\n",
      "        \"antn_id\": 3600691,\n",
      "        \"antn_ty\": \"POLYGON\",\n",
      "        \"object_class_lclas_code\": \"02\",\n",
      "        \"object_class_mlsft_code\": \"051\",\n",
      "        \"object_class_sclas_code\": \"02\",\n",
      "        \"object_class_lclas_nm\": \"초본\",\n",
      "        \"object_class_mlsft_nm\": \"한라꽃향유\",\n",
      "        \"object_class_sclas_nm\": \"꽃\",\n",
      "        \"pyn_xcrdnt\": \"515,501,489,480,466,456,461,461,449,431,420,419,418,414,398,370,352,347,348,354,363,349,343,345,347,350,356,351,352,355,360,368,359,349,348,351,355,344,337,328,328,328,324,319,318,317,322,327,346,344,363,360,351,349,340,333,329,333,341,359,350,346,349,351,360,376,394,376,364,357,361,377,385,380,374,371,376,384,393,399,411,398,394,390,389,396,402,409,414,432,424,418,419,427,437,434,436,437,444,453,461,473,476,474,474,477,480,478,481,489,494,500,510,517,518,523,527,535,539,546,558,564,571,574,574,575,583,590,593,599,600,598,593,602,615,616,612,596,606,617,623,627,624,617,599,612,618,624,621,617,609,606,612,620,627,636,641,630,624,614,597,604,609,613,611,607,600,595,602,614,625,631,629,618,597,610,621,620,614,605,600,592,608,618,625,624,615,605,620,627,632,629,623,611,601,591,607,626,639,639,649,651,646,638,612,629,635,631,627,620,606,599,592,597,603,620,624,624,619,606,597,591,597,606,608,604,597,585,565,553,529\",\n",
      "        \"pyn_ycrdnt\": \"808,817,817,814,816,818,832,844,856,857,853,844,836,824,818,789,775,764,751,741,738,726,713,708,701,695,690,685,673,663,655,650,643,634,624,615,613,610,604,601,596,589,590,589,584,569,563,557,557,550,550,541,536,524,518,505,491,484,479,472,459,449,432,422,418,418,414,400,386,370,368,386,384,374,366,356,346,343,342,340,339,324,315,304,286,290,283,278,275,274,259,246,238,243,254,241,227,221,218,215,215,222,220,208,195,182,176,161,153,152,154,151,151,153,141,127,113,112,117,115,111,113,120,133,141,158,161,168,169,172,188,202,218,218,226,238,248,267,267,270,277,287,294,314,325,328,334,342,354,363,364,369,374,370,360,358,362,374,382,387,392,399,401,410,422,429,434,437,445,444,441,441,448,456,460,466,472,483,495,502,504,508,509,504,503,514,519,522,525,529,539,555,564,572,572,571,584,578,571,563,564,573,581,582,594,602,616,626,635,643,645,641,643,648,658,664,676,694,706,700,705,711,718,727,734,748,765,766,769,774,784\"\n",
      "    },\n",
      "    \"plants\": {\n",
      "        \"wd_plnt_nm\": \"한라꽃향유\",\n",
      "        \"scientific_nm\": \"Elsholtzia hallasanensis Y.N.Lee, 2000.\",\n",
      "        \"woody_herbal\": \"2\",\n",
      "        \"edible_yn\": \"N\",\n",
      "        \"edible_part\": \"N/A\",\n",
      "        \"acquisition_term\": \"10월\",\n",
      "        \"efficacy\": \"항염증|면역증진|항산화\",\n",
      "        \"efficacy_ncl\": \"0.0|0.0|0.0\",\n",
      "        \"nutrient\": \"15.2|15.6|15.6\"\n",
      "    },\n",
      "    \"ingredient\": {\n",
      "        \"irdnt_nm\": \"Escin Ⅳd|Chlorogenic acid|Kaempferol-3-O-β-D-glucuronide|Kaempferol-3-O-β-D-glucopyranoside|Genistin|Sanleng acid|Luteolin 7-beta-neohesperidoside|(E,E)-9-Oxooctadeca-10,12-dienoic acid|1-O-Caffeoyquinic acid|Apigenol\",\n",
      "        \"irdnt_ncl\": \"0.2|-0.4|0.0|0.1|0.6|0.6|0.7|0.3|0.4|0.6\",\n",
      "        \"irdnt_chmcls_strct\": \" \",\n",
      "        \"irdnt_anals_instlm\": \"제주산학융합원\"\n",
      "    },\n",
      "    \"licenses\": {\n",
      "        \"lcnse_nm\": \"CC-BY-SA\"\n",
      "    }\n",
      "}\n"
     ]
    }
   ],
   "source": [
    "look(9000)"
   ]
  },
  {
   "cell_type": "code",
   "execution_count": 179,
   "id": "45424aa8-dff4-4e08-a251-cd9fe96c44d9",
   "metadata": {},
   "outputs": [
    {
     "name": "stdout",
     "output_type": "stream",
     "text": [
      "total 10127 files\n"
     ]
    }
   ],
   "source": [
    "# 전체 JSON 화일을 읽어들여 List로 만들어 둡니다.\n",
    "i=0\n",
    "all=[]\n",
    "for alabel in label:\n",
    "    if not alabel.endswith(\"json\"): continue\n",
    "    with open(alabel, encoding='utf8') as f:\n",
    "        j=json.load(f)\n",
    "        all.append(j)\n",
    "        i+=1\n",
    "print('total', i, 'files')"
   ]
  },
  {
   "cell_type": "code",
   "execution_count": 195,
   "id": "8e197c9d-b177-495a-a28d-54a0fd77267c",
   "metadata": {},
   "outputs": [],
   "source": [
    "# JSON내의 필드 분포를 하나하나 살펴보기위한 함수를 만듭니다.\n",
    "def examine(field1, field2):\n",
    "    s={}\n",
    "    key='{}.{}'.format(field1, field2)\n",
    "    for j in all:\n",
    "        val=j[field1][field2]\n",
    "        if not key in s: s[key]={}\n",
    "        if not val in s[key]: s[key][val]=0\n",
    "        s[key][val] +=1\n",
    "    return s"
   ]
  },
  {
   "cell_type": "code",
   "execution_count": 199,
   "id": "758912ef-655e-4b2c-b716-6f5eacd3f8a9",
   "metadata": {},
   "outputs": [
    {
     "name": "stdout",
     "output_type": "stream",
     "text": [
      "info.datast_nm 1\n",
      "info.datast_detail 1\n",
      "info.wd_plnt_idntfr 15\n",
      "images.image_file_id 10127\n",
      "images.image_file_nm 10127\n",
      "images.file_stre_cours 10127\n",
      "images.rsoltn 2004\n",
      "images.region_nm 33\n",
      "images.region_type 2\n",
      "images.plant_part 4\n",
      "images.grwh_step_nm 1\n",
      "images.image_file_frmat 1\n",
      "images.image_potogrf_dt 7143\n",
      "annotations.antn_id 10127\n",
      "annotations.antn_ty 1\n",
      "annotations.object_class_lclas_code 2\n",
      "annotations.object_class_mlsft_code 15\n",
      "annotations.object_class_sclas_code 4\n",
      "annotations.object_class_lclas_nm 2\n",
      "annotations.object_class_mlsft_nm 15\n",
      "annotations.object_class_sclas_nm 4\n",
      "annotations.pyn_xcrdnt 10101\n",
      "annotations.pyn_ycrdnt 10099\n",
      "plants.wd_plnt_nm 15\n",
      "plants.scientific_nm 15\n",
      "plants.woody_herbal 2\n",
      "plants.edible_yn 2\n",
      "plants.edible_part 7\n",
      "plants.acquisition_term 7\n",
      "plants.efficacy 1\n",
      "plants.efficacy_ncl 11\n",
      "plants.nutrient 13\n",
      "ingredient.irdnt_nm 14\n",
      "ingredient.irdnt_ncl 14\n",
      "ingredient.irdnt_chmcls_strct 1\n",
      "ingredient.irdnt_anals_instlm 1\n",
      "licenses.lcnse_nm 1\n"
     ]
    }
   ],
   "source": [
    "for f1 in all[0]:\n",
    "    for f2 in all[0][f1]:\n",
    "        print('{}.{}'.format(f1, f2), len(examine(f1,f2)['{}.{}'.format(f1,f2)]))"
   ]
  },
  {
   "cell_type": "code",
   "execution_count": 205,
   "id": "38dd257f-c115-4b1a-b8ec-a45d3f60eaec",
   "metadata": {},
   "outputs": [],
   "source": [
    "def show(key):\n",
    "    k=key.split('.')\n",
    "    for x in sorted(examine(k[0],k[1])[key].items(), key=lambda x: x[1], reverse=True):\n",
    "        print(x)"
   ]
  },
  {
   "cell_type": "code",
   "execution_count": 206,
   "id": "92928af4-b8a9-4893-8186-48ac5f1ad143",
   "metadata": {},
   "outputs": [
    {
     "name": "stdout",
     "output_type": "stream",
     "text": [
      "('040', 1159)\n",
      "('046', 1133)\n",
      "('009', 1089)\n",
      "('041', 591)\n",
      "('043', 572)\n",
      "(160, 568)\n",
      "('048', 567)\n",
      "('022', 567)\n",
      "('001', 565)\n",
      "(153, 564)\n",
      "('020', 563)\n",
      "('002', 559)\n",
      "('011', 547)\n",
      "('051', 543)\n",
      "('004', 540)\n"
     ]
    }
   ],
   "source": [
    "show(\"info.wd_plnt_idntfr\")"
   ]
  },
  {
   "cell_type": "code",
   "execution_count": 207,
   "id": "ffba1f57-18f2-42b6-85dd-a394d4b8b028",
   "metadata": {},
   "outputs": [
    {
     "name": "stdout",
     "output_type": "stream",
     "text": [
      "('한라수목원', 3123)\n",
      "('농산물원종장', 1287)\n",
      "('제주대학교', 827)\n",
      "('제주특별자치도 제주시 용담동', 770)\n",
      "('만장굴', 547)\n",
      "('선덕사', 543)\n",
      "('성산', 540)\n",
      "('판포리', 530)\n",
      "('동광리', 382)\n",
      "('제주특별자치도 제주시 노형동', 376)\n",
      "('용담해안도로', 368)\n",
      "('연동', 225)\n",
      "('제주특별자치도 제주시 오등동', 208)\n",
      "('한라생태숲', 105)\n",
      "('무수천', 76)\n",
      "('제주특별자치도 서귀포시 성산읍', 61)\n",
      "('제주특별자치도 제주시 조천읍', 51)\n",
      "('제주특별자치도 제주시 영평동', 31)\n",
      "('서귀포시 안덕면 서광리', 24)\n",
      "('제주특별자치도 제주시 삼양동', 17)\n",
      "('한라수목원 자연생태학습관', 11)\n",
      "('첨단입구 교차로', 6)\n",
      "('제주대 공과대학3호관', 4)\n",
      "('제주시 아라일동', 4)\n",
      "('제주특별자치도 제주시 구좌읍 월정리', 2)\n",
      "('월정투명카약주차장', 2)\n",
      "('제주시 오등동', 1)\n",
      "('한라산 어리목 주차장', 1)\n",
      "('한라생태숲 목련총림', 1)\n",
      "('안덕계곡', 1)\n",
      "('휘닉스', 1)\n",
      "('제주특별자치도 제주시 한림읍 협재리', 1)\n",
      "('섭지코지', 1)\n"
     ]
    }
   ],
   "source": [
    "show(\"images.region_nm\")"
   ]
  },
  {
   "cell_type": "code",
   "execution_count": 208,
   "id": "3221f550-2ec3-4239-b80f-054c627ae327",
   "metadata": {},
   "outputs": [
    {
     "name": "stdout",
     "output_type": "stream",
     "text": [
      "('평지', 9072)\n",
      "('경사지', 1055)\n"
     ]
    }
   ],
   "source": [
    "show(\"images.region_type\")"
   ]
  },
  {
   "cell_type": "code",
   "execution_count": 209,
   "id": "ee715849-908c-4a56-9411-f73b5cf54dbb",
   "metadata": {},
   "outputs": [
    {
     "name": "stdout",
     "output_type": "stream",
     "text": [
      "('열매', 5092)\n",
      "('꽃', 3955)\n",
      "('잎-뒷면', 540)\n",
      "('잎-앞면', 540)\n"
     ]
    }
   ],
   "source": [
    "show(\"images.plant_part\")"
   ]
  },
  {
   "cell_type": "code",
   "execution_count": null,
   "id": "a2394576-14c9-4170-b1e2-f934c2f53424",
   "metadata": {},
   "outputs": [],
   "source": [
    "show(\"images.image_potogrf_dt\")"
   ]
  },
  {
   "cell_type": "code",
   "execution_count": 211,
   "id": "649a433c-7853-4caf-835a-1f64b420c879",
   "metadata": {},
   "outputs": [
    {
     "name": "stdout",
     "output_type": "stream",
     "text": [
      "('01', 7361)\n",
      "('02', 2766)\n"
     ]
    }
   ],
   "source": [
    "show(\"annotations.object_class_lclas_code\")"
   ]
  },
  {
   "cell_type": "code",
   "execution_count": 212,
   "id": "e718cc04-6537-41f6-ab09-c52f87dd3a65",
   "metadata": {},
   "outputs": [
    {
     "name": "stdout",
     "output_type": "stream",
     "text": [
      "('040', 1159)\n",
      "('046', 1133)\n",
      "('009', 1089)\n",
      "('041', 591)\n",
      "('043', 572)\n",
      "(160, 568)\n",
      "('048', 567)\n",
      "('022', 567)\n",
      "('001', 565)\n",
      "(153, 564)\n",
      "('020', 563)\n",
      "('002', 559)\n",
      "('011', 547)\n",
      "('051', 543)\n",
      "('004', 540)\n"
     ]
    }
   ],
   "source": [
    "show(\"annotations.object_class_mlsft_code\")"
   ]
  },
  {
   "cell_type": "code",
   "execution_count": 213,
   "id": "d3774604-aa8b-450b-939f-949d80c0d86b",
   "metadata": {},
   "outputs": [
    {
     "name": "stdout",
     "output_type": "stream",
     "text": [
      "('03', 5092)\n",
      "('02', 3955)\n",
      "('05', 540)\n",
      "('04', 540)\n"
     ]
    }
   ],
   "source": [
    "show(\"annotations.object_class_sclas_code\")"
   ]
  },
  {
   "cell_type": "code",
   "execution_count": 214,
   "id": "b913afa7-03f5-4ad5-aaa3-857b7e8280e7",
   "metadata": {},
   "outputs": [
    {
     "name": "stdout",
     "output_type": "stream",
     "text": [
      "('목본', 7361)\n",
      "('초본', 2766)\n"
     ]
    }
   ],
   "source": [
    "show(\"annotations.object_class_lclas_nm\")"
   ]
  },
  {
   "cell_type": "code",
   "execution_count": 215,
   "id": "70ecc590-fa58-4454-b1c8-772c76c54853",
   "metadata": {},
   "outputs": [
    {
     "name": "stdout",
     "output_type": "stream",
     "text": [
      "('열매', 5092)\n",
      "('꽃', 3955)\n",
      "('잎-뒷면', 540)\n",
      "('잎-앞면', 540)\n"
     ]
    }
   ],
   "source": [
    "show(\"annotations.object_class_sclas_nm\")"
   ]
  },
  {
   "cell_type": "code",
   "execution_count": 216,
   "id": "4e8d8a40-29de-404b-a516-97a8d2d9f1e6",
   "metadata": {},
   "outputs": [
    {
     "name": "stdout",
     "output_type": "stream",
     "text": [
      "('순비기나무', 1159)\n",
      "('황근', 1133)\n",
      "('메밀', 1089)\n",
      "('참꽃나무', 591)\n",
      "('참가시나무', 572)\n",
      "('꽝꽝나무', 568)\n",
      "('해국', 567)\n",
      "('큰조롱', 567)\n",
      "('까마귀쪽나무', 565)\n",
      "('백량금', 564)\n",
      "('돈나무', 563)\n",
      "('좁은잎천선과', 559)\n",
      "('구실잣밤나무', 547)\n",
      "('한라꽃향유', 543)\n",
      "('참식나무', 540)\n"
     ]
    }
   ],
   "source": [
    "show(\"annotations.object_class_mlsft_nm\")"
   ]
  },
  {
   "cell_type": "code",
   "execution_count": 217,
   "id": "eb205447-1ccc-4be0-8465-999472b9eb41",
   "metadata": {},
   "outputs": [
    {
     "name": "stdout",
     "output_type": "stream",
     "text": [
      "('순비기나무', 1159)\n",
      "('황근', 1133)\n",
      "('메밀', 1089)\n",
      "('참꽃나무', 591)\n",
      "('참가시나무', 572)\n",
      "('꽝꽝나무', 568)\n",
      "('해국', 567)\n",
      "('큰조롱', 567)\n",
      "('까마귀쪽나무', 565)\n",
      "('백량금', 564)\n",
      "('돈나무', 563)\n",
      "('좁은잎천선과', 559)\n",
      "('구실잣밤나무', 547)\n",
      "('한라꽃향유', 543)\n",
      "('참식나무', 540)\n"
     ]
    }
   ],
   "source": [
    "show(\"plants.wd_plnt_nm\")"
   ]
  },
  {
   "cell_type": "code",
   "execution_count": 218,
   "id": "2ccf8fc4-0e42-4e38-8b0b-047fb5e6b00b",
   "metadata": {},
   "outputs": [
    {
     "name": "stdout",
     "output_type": "stream",
     "text": [
      "('Vitex rotundifolia L. f., 1781.', 1159)\n",
      "('Hibiscus hamabo Siebold & Zucc., 1841.', 1133)\n",
      "('Fagopyrum esculentum Moench, 1794.', 1089)\n",
      "('Rhododendron weyrichii Maxim., 1871.', 591)\n",
      "('Quercus salicina Blume, 1850.', 572)\n",
      "('Ilex crenata', 568)\n",
      "('Aster spathulifolius Maxim', 567)\n",
      "('Cynanchum wilfordii (Maxim.) Hemsl., 1889.', 567)\n",
      "('Litsea japonica (Thunb.) Juss., 1801.', 565)\n",
      "('Ardisia crenata', 564)\n",
      "('Pittosporum tobira (Thunb.) W. T. Aiton, 1811.', 563)\n",
      "('Ficus erecta var. sieboldii (Miq.) King, 1888.', 559)\n",
      "('Castanopsis sieboldii (Makino) Hatus. ex T. Yamaz. & Mashiba, 1971.', 547)\n",
      "('Elsholtzia hallasanensis Y.N.Lee, 2000.', 543)\n",
      "('Neolitsea sericea (Blume) Koidz., 1926.', 540)\n"
     ]
    }
   ],
   "source": [
    "show(\"plants.scientific_nm\")"
   ]
  },
  {
   "cell_type": "code",
   "execution_count": 219,
   "id": "275b41b3-cd99-4782-9b53-bc7686b72fb4",
   "metadata": {},
   "outputs": [
    {
     "name": "stdout",
     "output_type": "stream",
     "text": [
      "('1', 7361)\n",
      "('2', 2766)\n"
     ]
    }
   ],
   "source": [
    "show(\"plants.woody_herbal\")"
   ]
  },
  {
   "cell_type": "code",
   "execution_count": 220,
   "id": "778154c1-446a-4978-86f8-bbd81b649a68",
   "metadata": {},
   "outputs": [
    {
     "name": "stdout",
     "output_type": "stream",
     "text": [
      "('N', 5093)\n",
      "('Y', 5034)\n"
     ]
    }
   ],
   "source": [
    "show(\"plants.edible_yn\")"
   ]
  },
  {
   "cell_type": "code",
   "execution_count": 221,
   "id": "40fe186e-4561-4d3d-9811-1d8cd2577df6",
   "metadata": {},
   "outputs": [
    {
     "name": "stdout",
     "output_type": "stream",
     "text": [
      "('N/A', 5093)\n",
      "('열매', 1684)\n",
      "('잎, 줄기, 꽃, 씨앗', 1089)\n",
      "('뿌리, 줄기(제한 사용)', 568)\n",
      "('잎', 567)\n",
      "('뿌리(물추출물에 한함)', 567)\n",
      "('잎, 열매', 559)\n"
     ]
    }
   ],
   "source": [
    "show(\"plants.edible_part\")"
   ]
  },
  {
   "cell_type": "code",
   "execution_count": 222,
   "id": "b3c641e6-8ed1-46d9-9b94-bcdaf5b077c3",
   "metadata": {},
   "outputs": [
    {
     "name": "stdout",
     "output_type": "stream",
     "text": [
      "('10월', 3935)\n",
      "('11월', 2816)\n",
      "('08월', 2789)\n",
      "('07월', 414)\n",
      "('06월', 123)\n",
      "('12월', 45)\n",
      "('05월', 5)\n"
     ]
    }
   ],
   "source": [
    "show(\"plants.acquisition_term\")"
   ]
  },
  {
   "cell_type": "code",
   "execution_count": 223,
   "id": "7e019ca2-d0df-4fc0-9a5f-6efd537a26b0",
   "metadata": {},
   "outputs": [
    {
     "name": "stdout",
     "output_type": "stream",
     "text": [
      "('0.0|0.0|0.0', 1701)\n",
      "('분석 진행중', 1699)\n",
      "('67.0|3.6|72.4', 1159)\n",
      "('41.1|13.3|0.0', 1133)\n",
      "('8.9|9.0|0.0', 1089)\n",
      "('46.4|17.1|82.6', 572)\n",
      "('72.0|28.7|71.4', 565)\n",
      "('88.7|9.7|52.1', 563)\n",
      "('13.4|13.8|51.6', 559)\n",
      "('57.8|18.2|82.4', 547)\n",
      "('41.8|11.3|74.3', 540)\n"
     ]
    }
   ],
   "source": [
    "show(\"plants.efficacy_ncl\")"
   ]
  },
  {
   "cell_type": "code",
   "execution_count": 224,
   "id": "e882df18-2c18-4137-93fd-332e6d3d3c12",
   "metadata": {},
   "outputs": [
    {
     "name": "stdout",
     "output_type": "stream",
     "text": [
      "('분석 진행중', 1699)\n",
      "('15.3|15.2|15.0', 1159)\n",
      "('15.0|15.4|15.6', 1133)\n",
      "('15.1|15.8|15.2', 1089)\n",
      "('15.2|15.2|15.4', 591)\n",
      "('15.4|15.2|15.5', 572)\n",
      "('15.1|15.6|16.0', 567)\n",
      "('16.2|15.9|16.0', 565)\n",
      "('15.3|15.7|15.6', 563)\n",
      "('16.1|15.5|16.2', 559)\n",
      "('15.3|15.2|16.7', 547)\n",
      "('15.2|15.6|15.6', 543)\n",
      "('15.6|16.2|15.5', 540)\n"
     ]
    }
   ],
   "source": [
    "show(\"plants.nutrient\")"
   ]
  },
  {
   "cell_type": "code",
   "execution_count": 225,
   "id": "e3fbbd25-1a9c-4b1d-8240-326ed00fe6b6",
   "metadata": {},
   "outputs": [
    {
     "name": "stdout",
     "output_type": "stream",
     "text": [
      "('Agnuside|Oxypaeoniflorin|Trifolin|Kaempferol 3-O-β-D-glucuronide|Cimicifugic acid B|Apigenin-7-O-acetyl-β-D-glucoside|20(S)-Ginsenoside Rh2|5,6,4-Trihydroxy-7,8-dimethoxyflavone', 1159)\n",
      "('Procyanidin B1|(E,E)-9-oxooctadeca-10,12-dienoic acid|Quinquenoside I|Tianshic acid|Kaempferol-3-Glucoside-2-p-coumaroyl|6-Hydroxykaempferol-3-O-glucoside|Vernolic acid|Acrinidioionoside|Decaffeoylverbascoside|Glucosyringic acid', 1133)\n",
      "('분석 진행중', 1132)\n",
      "('6-Hydroxykaempferol-3-O-glucoside|Kaempferol 3-O-β-D-glucopyranoside|1-O-Caffeoyquinic\\xa0acid|Cnidimol F|Procyanidin\\xa0B8|Rhamnetin|1-Galloyl-glucose|QuinquenosideⅠ|5,7,8,3-Tetrahydroxy-3,4-dimethoxy flavone|3,5-Dihydroxybenzoic acid', 1089)\n",
      "(\"6-Hydroxykaempferol-3-O-glucoside|21-O-Methyl\\xa0toosendanopentaol|20(S)-Ginsenoside\\xa0Rh2\\xa0(Ginsenoside\\xa0Rh2)|3β-O-trans-p-Coumaroyl\\xa0alphitolic\\xa0acid|Chlorogenic\\xa0acid|1-O-Caffeoyquinic\\xa0acid|Kaempferol-3-Glucoside-2'-p-coumaroyl|Procyanidin\\xa0B8|Quercetin-3-O-xyloside|Neocomplanoside\", 591)\n",
      "('Madecassoside|Ellagic acid|Quinic acid|2,3-(S)-hexahydroxydiphenoyl-D-glucose|3-O-Methylellagic acid|Ethyl caffeate|3,3-Di-O-methylellagic acid|Tianshic acid|2,3-(S)-hexahydroxydiphenoyl-D-glucose|Yamogenin acetate', 572)\n",
      "('apigenin-7-O-galactopyranoside|Hyperin|Rutin|Quinic\\xa0acid|Quercetin-3-O-α-L-rhamnoside|Apigenol|Quercetin-3′-O-glucoside_1|Kaempferol', 567)\n",
      "('Polygoacetophenoside|Kaempferol\\xa03-O-β-D-glucopyranoside|Quercetin-3-O-xyloside|Quercetin-3-O-α-D-glucuronide|Kaempferol-3-O-β-D-glucuronide|Catechin-3-O-gallate|Bruceine\\xa0H|Procyanidin\\xa0B1|Sanleng\\xa0acid|1-Galloyl-glucose', 567)\n",
      "('Kaempferol-7-rhamnoside|chlorogenic acid|Questin|Chrysosplenetin B|Myricetin 3-O-glucoside|(E,E)-9-Oxooctadeca-10,12-dienoic acid|6-Hydroxykaempferol 3-glucoside|Luteolin-7-beta-neohesperidoside|lithospermic acid B|Trifolin', 565)\n",
      "('Chlorogenic acid|Methyl chlorogenate|3-O-trans-Coumaroylquinic acid|1-O-Caffeoyl-β-D-glucopyranose|akebia saponin E|Lablaboside D|Vernolic acid|Methyl chlorogenate|(E,E)-9-Oxooctadeca-10,12-dienoic acid|Shikimic acid', 563)\n",
      "('Cnidimol F|6-Hydroxykaempferol 3-glucoside|(E,E)-9-Oxooctadeca-10,12-dienoic\\xa0acid|Sanleng acid|1-O-Caffeoyl-β-D-glucopyranose|morroniside|3-O-trans-p-Coumaroyl alphitolic acid|Curculigoside B|Kaempferol 3,7-diglucoside|Procyanidin\\xa0B8', 559)\n",
      "('1,2,3,6-Tetra-O-galloyl-D-glucose|quercetin-3-O-glucoside|1,2,6-tris-O-galloyl-β-D-glucose|Quercetin-3-O-α-D-glucuronide|Mudanpioside E|3,6-Di-O-Galloyl-β-D-glucose|1-Galloylglucose|Sesamoside|Secologanoside|Methyl 11α-hydroxytormentate', 547)\n",
      "('Escin\\xa0Ⅳd|Chlorogenic\\xa0acid|Kaempferol-3-O-β-D-glucuronide|Kaempferol-3-O-β-D-glucopyranoside|Genistin|Sanleng\\xa0acid|Luteolin\\xa07-beta-neohesperidoside|(E,E)-9-Oxooctadeca-10,12-dienoic\\xa0acid|1-O-Caffeoyquinic\\xa0acid|Apigenol', 543)\n",
      "('Dihydrokaempferol-5-O-β-D-glucopyranoside|Trifolin|6-Hydroxykaempferol 3-glucoside|Procyanidin B1|Kaempferol 3-O-(6\"-O-p-coumaroyl)glucoside|1,6,7-Trihydroxy-2,3-dimethoxyxanthone|Gaillardin|Darendoside A|Cimidahurinine|Vernolic acid', 540)\n"
     ]
    }
   ],
   "source": [
    "show(\"ingredient.irdnt_nm\")"
   ]
  },
  {
   "cell_type": "code",
   "execution_count": 226,
   "id": "b18b4a41-bf0b-437f-9aa8-32c6355825ba",
   "metadata": {},
   "outputs": [
    {
     "name": "stdout",
     "output_type": "stream",
     "text": [
      "('-0.2|-0.1|-0.3|0.1|0.0|-0.4|-0.4|0.9', 1159)\n",
      "('-0.1|-0.1|0.7|0.9|-0.4|-0.4|0.6|-0.5|0.3|-0.5', 1133)\n",
      "('분석 진행중', 1132)\n",
      "('0.6|0.4|-0.3|0.5|-0.4|0.0|0.0|-0.2|0.4|0.5', 1089)\n",
      "('0.2|1.0|0.2|-0.5|-0.3|0.1|0.9|0.2|0.0|0.2', 591)\n",
      "('-1.4|0.2|-0.1|-0.2|-0.7|0.7|0.5|0.3|-0.7|1.7', 572)\n",
      "('0.0|-0.2|-0.4|-0.7|-0.3|0.5|-0.2|0.2', 567)\n",
      "('2.8|0.4|0.4|-0.3|0.2|0.0|0.6|0.0|0.2|0.6', 567)\n",
      "('-0.1|-1.9|-0.5|-0.3|-0.1|0.5|0.2|0.8|0.3|1.0', 565)\n",
      "('0.5|0.3|0.8|1.3|0.6|0.4|1.6|0.7|1.7|3.5', 563)\n",
      "('0.4|0.9|0.3|0.2|0.9|0.1|0.6|0.0|-0.6|0.4', 559)\n",
      "('-0.6|-0.5|-0.6|-0.7|-0.7|-0.9|-0.7|-0.5|-0.5|0.6', 547)\n",
      "('0.2|-0.4|0.0|0.1|0.6|0.6|0.7|0.3|0.4|0.6', 543)\n",
      "('0.5|0.7|0.0|-0.6|-0.1|0.3|0.8|0.4|0.3|0.0', 540)\n"
     ]
    }
   ],
   "source": [
    "show(\"ingredient.irdnt_ncl\")"
   ]
  },
  {
   "cell_type": "code",
   "execution_count": null,
   "id": "b1851fff-21a0-475a-ad5a-eaa8df0e7b6f",
   "metadata": {},
   "outputs": [],
   "source": []
  }
 ],
 "metadata": {
  "kernelspec": {
   "display_name": "Python 3 (ipykernel)",
   "language": "python",
   "name": "python3"
  },
  "language_info": {
   "codemirror_mode": {
    "name": "ipython",
    "version": 3
   },
   "file_extension": ".py",
   "mimetype": "text/x-python",
   "name": "python",
   "nbconvert_exporter": "python",
   "pygments_lexer": "ipython3",
   "version": "3.9.9"
  }
 },
 "nbformat": 4,
 "nbformat_minor": 5
}
